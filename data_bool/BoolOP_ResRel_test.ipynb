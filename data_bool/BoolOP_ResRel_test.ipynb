{
 "cells": [
  {
   "cell_type": "code",
   "execution_count": 1,
   "metadata": {},
   "outputs": [],
   "source": [
    "import pandas as pd\n",
    "from support_BoolOP import *\n",
    "from itertools import combinations"
   ]
  },
  {
   "cell_type": "code",
   "execution_count": 2,
   "metadata": {},
   "outputs": [],
   "source": [
    "# path=\"../data_extract/\"\n",
    "path=\"../../Codes_5/data_extract/\"\n",
    "ratid=21012\n",
    "chunksize=20 #in minutes\n",
    "rats=[20382,24101,21012,22295,20630,22098,23783,24116]"
   ]
  },
  {
   "cell_type": "code",
   "execution_count": 3,
   "metadata": {},
   "outputs": [],
   "source": [
    "dt=pd.read_json(path+\"Rat_\"+str(ratid)+\"_RECdata_extracted.json\");"
   ]
  },
  {
   "cell_type": "code",
   "execution_count": 4,
   "metadata": {},
   "outputs": [
    {
     "data": {
      "text/plain": [
       "Index(['RAT_ID', 'REC_GID', 'REC_duration', 'REC_timerange', 'REC_Date',\n",
       "       'N_DIDs', 'Neu_IDs', 'N_GIDs', 'N_LOCs', 'task', 'U_GIDs',\n",
       "       'U_spiketimes'],\n",
       "      dtype='object')"
      ]
     },
     "execution_count": 4,
     "metadata": {},
     "output_type": "execute_result"
    }
   ],
   "source": [
    "dt.columns"
   ]
  },
  {
   "cell_type": "code",
   "execution_count": 5,
   "metadata": {},
   "outputs": [],
   "source": [
    "# for nRec in range(np.shape(dt)[0]):\n",
    "#      #segrecating CA1 and SUB units in the recording\n",
    "#     loci = {'CA1': [], 'SUB': [], 'others': []}\n",
    "#     for (s, v) in zip(dt.iloc[nRec].U_GIDs, dt.iloc[nRec].N_LOCs):\n",
    "#             if 'CA1' in v:\n",
    "#                     loci['CA1'].append(s)\n",
    "#             elif 'SUB' in v:\n",
    "#                     loci['SUB'].append(s)\n",
    "#             else:\n",
    "#                     loci['others'].append(s)\n",
    "\n",
    "#     #print(nRec,\"->\",loci)\n",
    "#     no_CA1=len(loci['CA1'])\n",
    "#     no_SUB=len(loci['SUB'])  \n",
    "    \n",
    "#     if no_SUB>=20:\n",
    "#         print(nRec,\"No_of SUB:\",no_SUB)\n",
    "#         for i in dt.iloc[nRec].U_spiketimes:\n",
    "#             print(len(i))"
   ]
  },
  {
   "cell_type": "markdown",
   "metadata": {},
   "source": [
    "# Checking all combinations"
   ]
  },
  {
   "cell_type": "code",
   "execution_count": 6,
   "metadata": {},
   "outputs": [
    {
     "data": {
      "text/plain": [
       "RAT_ID                                                       21012\n",
       "REC_GID                                                       3297\n",
       "REC_duration                                           1599.790911\n",
       "REC_timerange                    [82406.793332, 84006.58424250326]\n",
       "REC_Date                                                  30/06/15\n",
       "N_DIDs           [98, 104, 112, 123, 131, 136, 142, 147, 153, 1...\n",
       "Neu_IDs          [235, 241, 249, 260, 268, 273, 279, 284, 290, ...\n",
       "N_GIDs           [13105, 13111, 13119, 13130, 13138, 13143, 131...\n",
       "N_LOCs           [[DIST, SUB], [DIST, SUB], [DIST, SUB], [PROX,...\n",
       "task                                                          fmsw\n",
       "U_GIDs           [4889, 4941, 4984, 5064, 5158, 5256, 5311, 536...\n",
       "U_spiketimes     [[82406.8731, 82407.335, 82407.4601, 82407.622...\n",
       "Name: 11, dtype: object"
      ]
     },
     "execution_count": 6,
     "metadata": {},
     "output_type": "execute_result"
    }
   ],
   "source": [
    "nRec=11;\n",
    "dt.iloc[nRec]"
   ]
  },
  {
   "cell_type": "code",
   "execution_count": 7,
   "metadata": {},
   "outputs": [
    {
     "name": "stdout",
     "output_type": "stream",
     "text": [
      "True\n",
      "11 -> {'CA1': [5935, 5948, 5961, 5974, 5987, 5998, 6187, 6234, 6289, 6312], 'SUB': [4889, 4941, 4984, 5064, 5158, 5256, 5311, 5369, 5424, 5480, 5519, 5558, 5568, 5615, 5644, 5685, 5729, 5821, 6321, 6333, 6347], 'others': []}\n",
      "Duplicate! nREC= 11  loc:  SUB  units:  (5480, 5519)\n"
     ]
    },
    {
     "data": {
      "text/html": [
       "<div>\n",
       "<style scoped>\n",
       "    .dataframe tbody tr th:only-of-type {\n",
       "        vertical-align: middle;\n",
       "    }\n",
       "\n",
       "    .dataframe tbody tr th {\n",
       "        vertical-align: top;\n",
       "    }\n",
       "\n",
       "    .dataframe thead th {\n",
       "        text-align: right;\n",
       "    }\n",
       "</style>\n",
       "<table border=\"1\" class=\"dataframe\">\n",
       "  <thead>\n",
       "    <tr style=\"text-align: right;\">\n",
       "      <th></th>\n",
       "      <th>RAT_ID</th>\n",
       "      <th>Rec_GID</th>\n",
       "      <th>Rtask</th>\n",
       "      <th>U_LOC</th>\n",
       "      <th>U1_GID</th>\n",
       "      <th>OP</th>\n",
       "      <th>U2_GID</th>\n",
       "      <th>Nspikes</th>\n",
       "      <th>MSR</th>\n",
       "      <th>MHK</th>\n",
       "      <th>MHS</th>\n",
       "      <th>dt_MHK</th>\n",
       "      <th>OHK</th>\n",
       "      <th>OHS</th>\n",
       "      <th>dt_OHK</th>\n",
       "      <th>max_HSHK</th>\n",
       "    </tr>\n",
       "  </thead>\n",
       "  <tbody>\n",
       "    <tr>\n",
       "      <th>0</th>\n",
       "      <td>21012</td>\n",
       "      <td>3297</td>\n",
       "      <td>fmsw</td>\n",
       "      <td>SUB</td>\n",
       "      <td>4889</td>\n",
       "      <td>NA</td>\n",
       "      <td>4889</td>\n",
       "      <td>6168</td>\n",
       "      <td>0.281386</td>\n",
       "      <td>0.471067</td>\n",
       "      <td>0.531784</td>\n",
       "      <td>10.274858</td>\n",
       "      <td>0.270329</td>\n",
       "      <td>0.835826</td>\n",
       "      <td>0.544001</td>\n",
       "      <td>1.106155</td>\n",
       "    </tr>\n",
       "    <tr>\n",
       "      <th>1</th>\n",
       "      <td>21012</td>\n",
       "      <td>3297</td>\n",
       "      <td>fmsw</td>\n",
       "      <td>SUB</td>\n",
       "      <td>4941</td>\n",
       "      <td>NA</td>\n",
       "      <td>4941</td>\n",
       "      <td>24577</td>\n",
       "      <td>0.262646</td>\n",
       "      <td>0.444404</td>\n",
       "      <td>0.479867</td>\n",
       "      <td>9.135425</td>\n",
       "      <td>0.142778</td>\n",
       "      <td>0.925957</td>\n",
       "      <td>0.073756</td>\n",
       "      <td>1.068734</td>\n",
       "    </tr>\n",
       "    <tr>\n",
       "      <th>2</th>\n",
       "      <td>21012</td>\n",
       "      <td>3297</td>\n",
       "      <td>fmsw</td>\n",
       "      <td>SUB</td>\n",
       "      <td>4984</td>\n",
       "      <td>NA</td>\n",
       "      <td>4984</td>\n",
       "      <td>1350</td>\n",
       "      <td>0.295835</td>\n",
       "      <td>0.475859</td>\n",
       "      <td>0.605266</td>\n",
       "      <td>9.688405</td>\n",
       "      <td>0.368649</td>\n",
       "      <td>0.790681</td>\n",
       "      <td>1.868933</td>\n",
       "      <td>1.159330</td>\n",
       "    </tr>\n",
       "    <tr>\n",
       "      <th>3</th>\n",
       "      <td>21012</td>\n",
       "      <td>3297</td>\n",
       "      <td>fmsw</td>\n",
       "      <td>SUB</td>\n",
       "      <td>5064</td>\n",
       "      <td>NA</td>\n",
       "      <td>5064</td>\n",
       "      <td>10035</td>\n",
       "      <td>0.269510</td>\n",
       "      <td>0.435814</td>\n",
       "      <td>0.500407</td>\n",
       "      <td>11.556408</td>\n",
       "      <td>0.217258</td>\n",
       "      <td>0.869908</td>\n",
       "      <td>0.302249</td>\n",
       "      <td>1.087166</td>\n",
       "    </tr>\n",
       "    <tr>\n",
       "      <th>4</th>\n",
       "      <td>21012</td>\n",
       "      <td>3297</td>\n",
       "      <td>fmsw</td>\n",
       "      <td>SUB</td>\n",
       "      <td>5158</td>\n",
       "      <td>NA</td>\n",
       "      <td>5158</td>\n",
       "      <td>6006</td>\n",
       "      <td>0.268481</td>\n",
       "      <td>0.431929</td>\n",
       "      <td>0.501978</td>\n",
       "      <td>14.618976</td>\n",
       "      <td>0.187469</td>\n",
       "      <td>0.906333</td>\n",
       "      <td>0.268731</td>\n",
       "      <td>1.093802</td>\n",
       "    </tr>\n",
       "    <tr>\n",
       "      <th>...</th>\n",
       "      <td>...</td>\n",
       "      <td>...</td>\n",
       "      <td>...</td>\n",
       "      <td>...</td>\n",
       "      <td>...</td>\n",
       "      <td>...</td>\n",
       "      <td>...</td>\n",
       "      <td>...</td>\n",
       "      <td>...</td>\n",
       "      <td>...</td>\n",
       "      <td>...</td>\n",
       "      <td>...</td>\n",
       "      <td>...</td>\n",
       "      <td>...</td>\n",
       "      <td>...</td>\n",
       "      <td>...</td>\n",
       "    </tr>\n",
       "    <tr>\n",
       "      <th>1550</th>\n",
       "      <td>21012</td>\n",
       "      <td>3297</td>\n",
       "      <td>fmsw</td>\n",
       "      <td>CA1</td>\n",
       "      <td>6289</td>\n",
       "      <td>OR</td>\n",
       "      <td>6312</td>\n",
       "      <td>1716</td>\n",
       "      <td>0.291448</td>\n",
       "      <td>0.486585</td>\n",
       "      <td>0.617080</td>\n",
       "      <td>7.221621</td>\n",
       "      <td>0.368914</td>\n",
       "      <td>0.767887</td>\n",
       "      <td>1.101240</td>\n",
       "      <td>1.136801</td>\n",
       "    </tr>\n",
       "    <tr>\n",
       "      <th>1551</th>\n",
       "      <td>21012</td>\n",
       "      <td>3297</td>\n",
       "      <td>fmsw</td>\n",
       "      <td>CA1</td>\n",
       "      <td>6289</td>\n",
       "      <td>XOR</td>\n",
       "      <td>6312</td>\n",
       "      <td>1716</td>\n",
       "      <td>0.291448</td>\n",
       "      <td>0.486585</td>\n",
       "      <td>0.617080</td>\n",
       "      <td>7.221621</td>\n",
       "      <td>0.368914</td>\n",
       "      <td>0.767887</td>\n",
       "      <td>1.101240</td>\n",
       "      <td>1.136801</td>\n",
       "    </tr>\n",
       "    <tr>\n",
       "      <th>1552</th>\n",
       "      <td>21012</td>\n",
       "      <td>3297</td>\n",
       "      <td>fmsw</td>\n",
       "      <td>CA1</td>\n",
       "      <td>6289</td>\n",
       "      <td>possAND</td>\n",
       "      <td>6312</td>\n",
       "      <td>1</td>\n",
       "      <td>NaN</td>\n",
       "      <td>NaN</td>\n",
       "      <td>NaN</td>\n",
       "      <td>NaN</td>\n",
       "      <td>NaN</td>\n",
       "      <td>NaN</td>\n",
       "      <td>NaN</td>\n",
       "      <td>NaN</td>\n",
       "    </tr>\n",
       "    <tr>\n",
       "      <th>1553</th>\n",
       "      <td>21012</td>\n",
       "      <td>3297</td>\n",
       "      <td>fmsw</td>\n",
       "      <td>CA1</td>\n",
       "      <td>6289</td>\n",
       "      <td>possOR</td>\n",
       "      <td>6312</td>\n",
       "      <td>1665</td>\n",
       "      <td>0.254900</td>\n",
       "      <td>0.395668</td>\n",
       "      <td>0.459902</td>\n",
       "      <td>39.702409</td>\n",
       "      <td>0.228907</td>\n",
       "      <td>0.875716</td>\n",
       "      <td>1.313568</td>\n",
       "      <td>1.104623</td>\n",
       "    </tr>\n",
       "    <tr>\n",
       "      <th>1554</th>\n",
       "      <td>21012</td>\n",
       "      <td>3297</td>\n",
       "      <td>fmsw</td>\n",
       "      <td>CA1</td>\n",
       "      <td>6289</td>\n",
       "      <td>possXOR</td>\n",
       "      <td>6312</td>\n",
       "      <td>1664</td>\n",
       "      <td>0.255462</td>\n",
       "      <td>0.399221</td>\n",
       "      <td>0.490840</td>\n",
       "      <td>31.385046</td>\n",
       "      <td>0.228794</td>\n",
       "      <td>0.875814</td>\n",
       "      <td>1.313568</td>\n",
       "      <td>1.104608</td>\n",
       "    </tr>\n",
       "  </tbody>\n",
       "</table>\n",
       "<p>1555 rows × 16 columns</p>\n",
       "</div>"
      ],
      "text/plain": [
       "      RAT_ID  Rec_GID Rtask U_LOC  U1_GID       OP  U2_GID  Nspikes       MSR  \\\n",
       "0      21012     3297  fmsw   SUB    4889       NA    4889     6168  0.281386   \n",
       "1      21012     3297  fmsw   SUB    4941       NA    4941    24577  0.262646   \n",
       "2      21012     3297  fmsw   SUB    4984       NA    4984     1350  0.295835   \n",
       "3      21012     3297  fmsw   SUB    5064       NA    5064    10035  0.269510   \n",
       "4      21012     3297  fmsw   SUB    5158       NA    5158     6006  0.268481   \n",
       "...      ...      ...   ...   ...     ...      ...     ...      ...       ...   \n",
       "1550   21012     3297  fmsw   CA1    6289       OR    6312     1716  0.291448   \n",
       "1551   21012     3297  fmsw   CA1    6289      XOR    6312     1716  0.291448   \n",
       "1552   21012     3297  fmsw   CA1    6289  possAND    6312        1       NaN   \n",
       "1553   21012     3297  fmsw   CA1    6289   possOR    6312     1665  0.254900   \n",
       "1554   21012     3297  fmsw   CA1    6289  possXOR    6312     1664  0.255462   \n",
       "\n",
       "           MHK       MHS     dt_MHK       OHK       OHS    dt_OHK  max_HSHK  \n",
       "0     0.471067  0.531784  10.274858  0.270329  0.835826  0.544001  1.106155  \n",
       "1     0.444404  0.479867   9.135425  0.142778  0.925957  0.073756  1.068734  \n",
       "2     0.475859  0.605266   9.688405  0.368649  0.790681  1.868933  1.159330  \n",
       "3     0.435814  0.500407  11.556408  0.217258  0.869908  0.302249  1.087166  \n",
       "4     0.431929  0.501978  14.618976  0.187469  0.906333  0.268731  1.093802  \n",
       "...        ...       ...        ...       ...       ...       ...       ...  \n",
       "1550  0.486585  0.617080   7.221621  0.368914  0.767887  1.101240  1.136801  \n",
       "1551  0.486585  0.617080   7.221621  0.368914  0.767887  1.101240  1.136801  \n",
       "1552       NaN       NaN        NaN       NaN       NaN       NaN       NaN  \n",
       "1553  0.395668  0.459902  39.702409  0.228907  0.875716  1.313568  1.104623  \n",
       "1554  0.399221  0.490840  31.385046  0.228794  0.875814  1.313568  1.104608  \n",
       "\n",
       "[1555 rows x 16 columns]"
      ]
     },
     "execution_count": 7,
     "metadata": {},
     "output_type": "execute_result"
    }
   ],
   "source": [
    "\n",
    "allD=[];\n",
    "print(dt.iloc[nRec].REC_duration > (chunksize*60));\n",
    "\n",
    " #segrecating CA1 and SUB units in the recording\n",
    "loci = {'CA1': [], 'SUB': [], 'others': []}\n",
    "for (s, v) in zip(dt.iloc[nRec].U_GIDs, dt.iloc[nRec].N_LOCs):\n",
    "        if 'CA1' in v:\n",
    "                loci['CA1'].append(s)\n",
    "        elif 'SUB' in v:\n",
    "                loci['SUB'].append(s)\n",
    "        else:\n",
    "                loci['others'].append(s)\n",
    "\n",
    "print(nRec,\"->\",loci)\n",
    "no_CA1=len(loci['CA1'])\n",
    "no_SUB=len(loci['SUB'])        \n",
    "\n",
    "#SUB neurons loop\n",
    "if no_SUB!= 0:\n",
    "        if no_SUB == 1:\n",
    "                allD=adding_rows(allD,dt,nRec,loci,chunksize,'SUB',False);\n",
    "        else:\n",
    "                allD=adding_rows(allD,dt,nRec,loci,chunksize,'SUB',True);\n",
    "\n",
    "#CA1 Loop\n",
    "if no_CA1 != 0:\n",
    "        if no_CA1 == 1:\n",
    "                allD=adding_rows(allD,dt,nRec,loci,chunksize,'CA1',False);\n",
    "        else:\n",
    "                allD=adding_rows(allD,dt,nRec,loci,chunksize,'CA1',True);\n",
    "rat_data=pd.DataFrame(allD)\n",
    "rat_data"
   ]
  },
  {
   "cell_type": "code",
   "execution_count": 9,
   "metadata": {},
   "outputs": [
    {
     "data": {
      "text/plain": [
       "array(['NA', 'AND', 'OR', 'XOR', 'possAND', 'possOR', 'possXOR'],\n",
       "      dtype=object)"
      ]
     },
     "execution_count": 9,
     "metadata": {},
     "output_type": "execute_result"
    }
   ],
   "source": [
    "rat_data.OP.unique()"
   ]
  },
  {
   "cell_type": "code",
   "execution_count": 22,
   "metadata": {},
   "outputs": [],
   "source": [
    "# def adding_rows(datas,location,mul_unit):\n",
    "#    bin_time=0.001 #1 milisec in seconds time resolution of binning for logical operations\n",
    "#    st,en=dt.iloc[nRec].REC_timerange\n",
    "#    edges = np.arange(st, en + bin_time, bin_time)\n",
    "#    # Binarization of spike train lambda function\n",
    "#    bined_spikes = lambda unit_id: np.array([False if x == 0 else True for x in np.histogram(dt.iloc[nRec].U_spiketimes[dt.iloc[nRec].U_GIDs.index(unit_id)], bins=edges)[0]])\n",
    "\n",
    "#    #For Single Units\n",
    "#    for items in loci[location]:\n",
    "#       sptr=np.array(dt.iloc[nRec].U_spiketimes[dt.iloc[nRec].U_GIDs.index(items)]); #spiketrain\n",
    "#       if len(np.where(sptr <= st+(chunksize*60))[0]) > 1:\n",
    "#          datas.append(single_formatted(sptr,st,items,location))\n",
    "#       else:\n",
    "#          datas.append(empty_formatted(items,items,'NA',len(np.where(sptr <= st+(chunksize*60))[0]),location))\n",
    "#    if mul_unit:   \n",
    "#       #For combined Units\n",
    "#       for items in list(combinations(loci[location], 2)):\n",
    "#          uid1=items[0];uid2=items[1]; #unit id\n",
    "#          #print(uid1,\" \",uid2)\n",
    "         \n",
    "#          #binarizing the spike train with 1 ms time resolution for logical operation\n",
    "#          bst1=bined_spikes(uid1);bst2=bined_spikes(uid2);\n",
    "#          Pbst1=poiss(bst1,bin_time);Pbst2=poiss(bst2,bin_time);\n",
    "#          # & is the element wise (bit wise) AND ; where retuns indices of the True after bool operation;\n",
    "#          #finally select from the time array from st to en in 1 ms resolution to create spike timestamps\n",
    "#          if sum(bst1)!=sum(bst2):   \n",
    "#             # AND operation\n",
    "#             and_spike_train = np.arange(st,en+bin_time,bin_time)[np.where(bst1 & bst2)]\n",
    "#             if len(np.where(and_spike_train <= st+(chunksize*60))[0]) > 1:\n",
    "#                datas.append(muli_formatted(and_spike_train,st,uid1,uid2,'AND',location))\n",
    "#             else:\n",
    "#                datas.append(empty_formatted(uid1,uid2,'AND',len(np.where(and_spike_train <= st+(chunksize*60))[0]),location))\n",
    "            \n",
    "#             # OR operation\n",
    "#             or_spike_train = np.arange(st,en+bin_time,bin_time)[np.where(bst1 | bst2)]\n",
    "#             if len(np.where(or_spike_train <= st+(chunksize*60))[0]) > 1:\n",
    "#                datas.append(muli_formatted(or_spike_train,st,uid1,uid2,'OR',location))\n",
    "#             else:\n",
    "#                datas.append(empty_formatted(uid1,uid2,'OR',len(np.where(or_spike_train <= st+(chunksize*60))[0]),location))\n",
    "            \n",
    "#             # XOR operation\n",
    "#             xor_spike_train = np.arange(st,en+bin_time,bin_time)[np.where(bst1 ^ bst2)]\n",
    "#             if len(np.where(xor_spike_train <= st+(chunksize*60))[0]) > 1:\n",
    "#                datas.append(muli_formatted(xor_spike_train,st,uid1,uid2,'XOR',location))\n",
    "#             else:\n",
    "#                datas.append(empty_formatted(uid1,uid2,'XOR',len(np.where(xor_spike_train <= st+(chunksize*60))[0]),location))\n",
    "\n",
    "#             ## Poisson spike trains\n",
    "#             # AND operation\n",
    "#             poss_and_spike_train = np.arange(st,en+bin_time,bin_time)[np.where(Pbst1 & Pbst2)]\n",
    "#             if len(np.where(poss_and_spike_train <= st+(chunksize*60))[0]) > 1:\n",
    "#                datas.append(muli_formatted(poss_and_spike_train,st,uid1,uid2,'possAND',location))\n",
    "#             else:\n",
    "#                datas.append(empty_formatted(uid1,uid2,'possAND',len(np.where(and_spike_train <= st+(chunksize*60))[0]),location))\n",
    "            \n",
    "#             # OR operation\n",
    "#             poss_or_spike_train = np.arange(st,en+bin_time,bin_time)[np.where(Pbst1 | Pbst2)]\n",
    "#             if len(np.where(poss_or_spike_train <= st+(chunksize*60))[0]) > 1:\n",
    "#                datas.append(muli_formatted(poss_or_spike_train,st,uid1,uid2,'possOR',location))\n",
    "#             else:\n",
    "#                datas.append(empty_formatted(uid1,uid2,'possOR',len(np.where(or_spike_train <= st+(chunksize*60))[0]),location))\n",
    "            \n",
    "#             # XOR operation\n",
    "#             poss_xor_spike_train = np.arange(st,en+bin_time,bin_time)[np.where(Pbst1 ^ Pbst2)]\n",
    "#             if len(np.where(poss_xor_spike_train <= st+(chunksize*60))[0]) > 1:\n",
    "#                datas.append(muli_formatted(poss_xor_spike_train,st,uid1,uid2,'possXOR',location))\n",
    "#             else:\n",
    "#                datas.append(empty_formatted(uid1,uid2,'possXOR',len(np.where(xor_spike_train <= st+(chunksize*60))[0]),location))\n",
    "\n",
    "#          else:\n",
    "#             print(\"Duplicate! \",nRec,location,items)\n",
    "#    return datas "
   ]
  },
  {
   "cell_type": "code",
   "execution_count": null,
   "metadata": {},
   "outputs": [],
   "source": []
  },
  {
   "cell_type": "markdown",
   "metadata": {},
   "source": [
    "# Checking individual recordings "
   ]
  },
  {
   "cell_type": "code",
   "execution_count": 8,
   "metadata": {},
   "outputs": [
    {
     "data": {
      "text/plain": [
       "np.True_"
      ]
     },
     "execution_count": 8,
     "metadata": {},
     "output_type": "execute_result"
    }
   ],
   "source": [
    "nRec=11;\n",
    "\n",
    "#segrecating CA1 and SUB units in the recording\n",
    "loci = {'CA1': [], 'SUB': [], 'others': []}\n",
    "for (s, v) in zip(dt.iloc[nRec].U_GIDs, dt.iloc[nRec].N_LOCs):\n",
    "    if 'CA1' in v:\n",
    "        loci['CA1'].append(s)\n",
    "    elif 'SUB' in v:\n",
    "        loci['SUB'].append(s)\n",
    "    else:\n",
    "        loci['others'].append(s)\n",
    "        \n",
    "#checking if the duration is better than chunk size\n",
    "dt.iloc[nRec].REC_duration > (chunksize*60) #in seconds"
   ]
  },
  {
   "cell_type": "code",
   "execution_count": 9,
   "metadata": {},
   "outputs": [
    {
     "data": {
      "text/plain": [
       "RAT_ID                                                       21012\n",
       "REC_GID                                                       3297\n",
       "REC_duration                                           1599.790911\n",
       "REC_timerange                    [82406.793332, 84006.58424250326]\n",
       "REC_Date                                                  30/06/15\n",
       "N_DIDs           [98, 104, 112, 123, 131, 136, 142, 147, 153, 1...\n",
       "Neu_IDs          [235, 241, 249, 260, 268, 273, 279, 284, 290, ...\n",
       "N_GIDs           [13105, 13111, 13119, 13130, 13138, 13143, 131...\n",
       "N_LOCs           [[DIST, SUB], [DIST, SUB], [DIST, SUB], [PROX,...\n",
       "task                                                          fmsw\n",
       "U_GIDs           [4889, 4941, 4984, 5064, 5158, 5256, 5311, 536...\n",
       "U_spiketimes     [[82406.8731, 82407.335, 82407.4601, 82407.622...\n",
       "Name: 11, dtype: object"
      ]
     },
     "execution_count": 9,
     "metadata": {},
     "output_type": "execute_result"
    }
   ],
   "source": [
    "dt.iloc[nRec]"
   ]
  },
  {
   "cell_type": "code",
   "execution_count": 44,
   "metadata": {},
   "outputs": [],
   "source": [
    "uid1=5310; #unit id\n",
    "uid2=5063; #unit id\n",
    "\n",
    "bin_time=0.001 #1 milisec in seconds time resolution of binning for logical operations"
   ]
  },
  {
   "cell_type": "code",
   "execution_count": 45,
   "metadata": {},
   "outputs": [],
   "source": [
    "st,en=dt.iloc[nRec].REC_timerange\n",
    "edges = np.arange(st, en + bin_time, bin_time)\n",
    "#binarizing the spike train with 1 ms time resolution for logical operation\n",
    "bined_spikes = lambda unit_id: np.array([False if x == 0 else True for x in np.histogram(dt.iloc[nRec].U_spiketimes[dt.iloc[nRec].U_GIDs.index(unit_id)], bins=edges)[0]])\n",
    "\n",
    "bst1=bined_spikes(uid1)\n",
    "bst2=bined_spikes(uid2)\n"
   ]
  },
  {
   "cell_type": "code",
   "execution_count": 46,
   "metadata": {},
   "outputs": [],
   "source": [
    "def poiss(binarized_datas,dt):\n",
    "    rng = np.random.default_rng()\n",
    "\n",
    "    avg_firing_rate = np.sum(binarized_datas) / (len(binarized_datas)*dt)\n",
    "    poss_st = rng.random((len(binarized_datas),)) < (avg_firing_rate  *dt)\n",
    "\n",
    "    return poss_st\n",
    "\n",
    "    #?? Random Shuffling\n",
    "    # poss2_st=binarized_datas.astype(bool).copy(); \n",
    "    # for _ in range(1000):\n",
    "    #     rng.shuffle(poss2_st)\n",
    "\n",
    "    # return poss_st,poss2_st"
   ]
  },
  {
   "cell_type": "code",
   "execution_count": 47,
   "metadata": {},
   "outputs": [],
   "source": [
    "Pbst1=poiss(bst1,bin_time)\n",
    "Pbst2=poiss(bst2,bin_time)"
   ]
  },
  {
   "cell_type": "code",
   "execution_count": 48,
   "metadata": {},
   "outputs": [],
   "source": [
    "# AND operation\n",
    "and_spike_train = np.arange(st,en+bin_time,bin_time)[np.where(bst1 & bst2)]\n",
    "\n",
    "\n",
    "# OR operation\n",
    "or_spike_train = np.arange(st,en+bin_time,bin_time)[np.where(bst1 | bst2)]\n",
    "\n",
    "\n",
    "# XOR operation\n",
    "xor_spike_train = np.arange(st,en+bin_time,bin_time)[np.where(bst1 ^ bst2)]\n",
    "\n",
    "\n",
    "# & is the element wise (bit wise) AND ; where retuns indices of the True after bool operation;\n",
    "#finally select from the time array from st to en in 1 ms resolution to create spike timestamps"
   ]
  },
  {
   "cell_type": "code",
   "execution_count": 49,
   "metadata": {},
   "outputs": [],
   "source": [
    "# AND operation\n",
    "poss_and_spike_train = np.arange(st,en+bin_time,bin_time)[np.where(Pbst1 & Pbst2)]\n",
    "\n",
    "\n",
    "# OR operation\n",
    "poss_or_spike_train = np.arange(st,en+bin_time,bin_time)[np.where(Pbst1 | Pbst2)]\n",
    "\n",
    "\n",
    "# XOR operation\n",
    "poss_xor_spike_train = np.arange(st,en+bin_time,bin_time)[np.where(Pbst1 ^ Pbst2)]"
   ]
  },
  {
   "cell_type": "code",
   "execution_count": 58,
   "metadata": {},
   "outputs": [
    {
     "data": {
      "text/plain": [
       "array([2040.061221  , 2040.141221  , 2040.160221  , ..., 3459.97822097,\n",
       "       3460.06322097, 3460.06422097])"
      ]
     },
     "execution_count": 58,
     "metadata": {},
     "output_type": "execute_result"
    }
   ],
   "source": [
    "poss_and_spike_train = np.arange(st,en+bin_time,bin_time)[np.where(Pbst1 & Pbst2)]\n",
    "poss_or_spike_train"
   ]
  },
  {
   "cell_type": "code",
   "execution_count": 59,
   "metadata": {},
   "outputs": [
    {
     "data": {
      "text/plain": [
       "59"
      ]
     },
     "execution_count": 59,
     "metadata": {},
     "output_type": "execute_result"
    }
   ],
   "source": [
    "len(np.where(poss_and_spike_train <= st+(chunksize*60))[0])\n",
    "               "
   ]
  },
  {
   "cell_type": "markdown",
   "metadata": {},
   "source": [
    "## Checking the MSR-Python"
   ]
  },
  {
   "cell_type": "code",
   "execution_count": 50,
   "metadata": {},
   "outputs": [
    {
     "name": "stdout",
     "output_type": "stream",
     "text": [
      "(65, np.float64(0.28455837585413957), np.float64(0.34339365983651693), np.float64(0.8329711961622961), np.float64(1.1763648559988131), np.float64(23.218698333094657), np.float64(0.5265645903969314), np.float64(0.5265645903969314), np.float64(147.38753160408766))\n",
      "(53, np.float64(0.29202549025581864), np.float64(0.36725924302200946), np.float64(0.8332260804699283), np.float64(1.2004853234919377), np.float64(23.39403568995683), np.float64(0.510772740222761), np.float64(0.5239488481509154), np.float64(136.39889864484303))\n"
     ]
    }
   ],
   "source": [
    "print(MSR(and_spike_train,st,en,200))\n",
    "#for The spike train of length = chunksize\n",
    "print(MSR(and_spike_train,st,st+(chunksize*60),200))"
   ]
  },
  {
   "cell_type": "code",
   "execution_count": 51,
   "metadata": {},
   "outputs": [
    {
     "name": "stdout",
     "output_type": "stream",
     "text": [
      "(68, np.float64(0.2602164650036412), np.float64(0.3563493425412819), np.float64(0.8208976493722973), np.float64(1.177246991913579), np.float64(33.20352804910567), np.float64(0.4567432470469307), np.float64(0.5195531485030087), np.float64(156.44144042239682))\n",
      "(59, np.float64(0.26345483963316146), np.float64(0.3747684248195676), np.float64(0.8116144898958815), np.float64(1.1863829147154492), np.float64(33.28482601965041), np.float64(0.4535352897966754), np.float64(0.6754450828756903), np.float64(67.37962311163164))\n"
     ]
    }
   ],
   "source": [
    "print(MSR(poss_and_spike_train,st,en,200))\n",
    "#for The spike train of length = chunksize\n",
    "print(MSR(poss_and_spike_train,st,st+(chunksize*60),200))"
   ]
  },
  {
   "cell_type": "markdown",
   "metadata": {},
   "source": [
    "## Relating with the neuron dataframe"
   ]
  },
  {
   "cell_type": "code",
   "execution_count": null,
   "metadata": {},
   "outputs": [],
   "source": [
    "# df=pd.read_json(path+\"Rat_\"+str(ratid)+\"_data_extracted.json\");\n",
    "\n",
    "# unit_GID_indices = {ele : (row_index, ele_index)\n",
    "#                     for row_index, row in df.iterrows()\n",
    "#                     for ele_index, ele in enumerate(row['U_GID'])}\n"
   ]
  },
  {
   "cell_type": "code",
   "execution_count": null,
   "metadata": {},
   "outputs": [],
   "source": [
    "# nRec=2;\n",
    "\n",
    "# #segrecating CA1 and SUB units in the recording\n",
    "# loci = {'CA1': [], 'SUB': [], 'others': []}\n",
    "# for (s, v) in zip(dt.iloc[nRec].U_GIDs, dt.iloc[nRec].N_LOCs):\n",
    "#     if 'CA1' in v:\n",
    "#         loci['CA1'].append(s)\n",
    "#     elif 'SUB' in v:\n",
    "#         loci['SUB'].append(s)\n",
    "#     else:\n",
    "#         loci['others'].append(s)\n",
    "        \n",
    "# #checking if the duration is better than chunk size\n",
    "# dt.iloc[nRec].REC_duration > (chunksize*60) #in seconds"
   ]
  },
  {
   "cell_type": "code",
   "execution_count": null,
   "metadata": {},
   "outputs": [],
   "source": [
    "# dt.iloc[nRec]"
   ]
  },
  {
   "cell_type": "code",
   "execution_count": null,
   "metadata": {},
   "outputs": [],
   "source": [
    "# uid=8488; #unit id\n",
    "# bin_time=0.001 #1 milisec in seconds time resolution of binning for logical operations\n",
    "# nu,uni=unit_GID_indices[uid];"
   ]
  },
  {
   "cell_type": "code",
   "execution_count": null,
   "metadata": {},
   "outputs": [],
   "source": [
    "\n",
    "# # asserting matching REC date\n",
    "# test1= df.loc[nu].REC_Date[uni] == dt.iloc[nRec].REC_Date;\n",
    "# # finding the index of the unit in the recording\n",
    "# find_index = lambda lst, target: next((index for index, value in enumerate(lst) if value == target), None)\n",
    "# #asserting matching N_GID\n",
    "# test2= df.loc[nu].N_GID ==dt.iloc[nRec].N_GIDs[find_index(dt.iloc[nRec].U_GIDs,uid)];\n",
    "# #asserting matching N_DID\n",
    "# test3=df.loc[nu].N_DID == dt.iloc[nRec].N_DIDs[find_index(dt.iloc[nRec].U_GIDs,uid)];\n",
    "# # extrating the ID of the neuron\n",
    "# Neu_ID= dt.iloc[nRec].Neu_IDs[find_index(dt.iloc[nRec].U_GIDs,uid)]\n",
    "\n",
    "# print(test1,test2,test3,Neu_ID)"
   ]
  }
 ],
 "metadata": {
  "kernelspec": {
   "display_name": "work",
   "language": "python",
   "name": "python3"
  },
  "language_info": {
   "codemirror_mode": {
    "name": "ipython",
    "version": 3
   },
   "file_extension": ".py",
   "mimetype": "text/x-python",
   "name": "python",
   "nbconvert_exporter": "python",
   "pygments_lexer": "ipython3",
   "version": "3.11.9"
  }
 },
 "nbformat": 4,
 "nbformat_minor": 2
}
