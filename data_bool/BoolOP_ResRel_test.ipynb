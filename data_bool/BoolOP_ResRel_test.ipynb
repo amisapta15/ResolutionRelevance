{
 "cells": [
  {
   "cell_type": "code",
   "execution_count": 1,
   "metadata": {},
   "outputs": [],
   "source": [
    "\n",
    "from func_Info import *\n",
    "import pandas as pd\n",
    "import numpy as np\n",
    "from itertools import combinations"
   ]
  },
  {
   "cell_type": "code",
   "execution_count": 2,
   "metadata": {},
   "outputs": [],
   "source": [
    "path=\"../data_extract/\"\n",
    "ratid=22098\n",
    "chunksize=20 #in minutes\n",
    "rats=[20382,24101,21012,22295,20630,22098,23783,24116]"
   ]
  },
  {
   "cell_type": "code",
   "execution_count": 3,
   "metadata": {},
   "outputs": [],
   "source": [
    "dt=pd.read_json(path+\"Rat_\"+str(ratid)+\"_RECdata_extracted.json\");"
   ]
  },
  {
   "cell_type": "code",
   "execution_count": 4,
   "metadata": {},
   "outputs": [
    {
     "data": {
      "text/plain": [
       "Index(['RAT_ID', 'REC_GID', 'REC_duration', 'REC_timerange', 'REC_Date',\n",
       "       'N_DIDs', 'Neu_IDs', 'N_GIDs', 'N_LOCs', 'task', 'U_GIDs',\n",
       "       'U_spiketimes'],\n",
       "      dtype='object')"
      ]
     },
     "execution_count": 4,
     "metadata": {},
     "output_type": "execute_result"
    }
   ],
   "source": [
    "dt.columns"
   ]
  },
  {
   "cell_type": "code",
   "execution_count": 7,
   "metadata": {},
   "outputs": [
    {
     "data": {
      "text/plain": [
       "70"
      ]
     },
     "execution_count": 7,
     "metadata": {},
     "output_type": "execute_result"
    }
   ],
   "source": []
  },
  {
   "cell_type": "markdown",
   "metadata": {},
   "source": [
    "# Checking all combinations"
   ]
  },
  {
   "cell_type": "code",
   "execution_count": 18,
   "metadata": {},
   "outputs": [
    {
     "name": "stdout",
     "output_type": "stream",
     "text": [
      "{'CA1': [], 'SUB': [8488, 8490, 8682, 8688, 8692, 8695, 8697, 8699, 8701, 8703], 'others': []}\n"
     ]
    },
    {
     "data": {
      "text/html": [
       "<div>\n",
       "<style scoped>\n",
       "    .dataframe tbody tr th:only-of-type {\n",
       "        vertical-align: middle;\n",
       "    }\n",
       "\n",
       "    .dataframe tbody tr th {\n",
       "        vertical-align: top;\n",
       "    }\n",
       "\n",
       "    .dataframe thead th {\n",
       "        text-align: right;\n",
       "    }\n",
       "</style>\n",
       "<table border=\"1\" class=\"dataframe\">\n",
       "  <thead>\n",
       "    <tr style=\"text-align: right;\">\n",
       "      <th></th>\n",
       "      <th>RAT_ID</th>\n",
       "      <th>Rec_GID</th>\n",
       "      <th>Rtask</th>\n",
       "      <th>U_LOC</th>\n",
       "      <th>U1_GID</th>\n",
       "      <th>OP</th>\n",
       "      <th>U2_GID</th>\n",
       "      <th>Nspikes</th>\n",
       "      <th>MSR</th>\n",
       "      <th>MHK</th>\n",
       "      <th>dt_MHK</th>\n",
       "      <th>OHK</th>\n",
       "      <th>OHS</th>\n",
       "      <th>dt_OHK</th>\n",
       "      <th>max_HSHK</th>\n",
       "    </tr>\n",
       "  </thead>\n",
       "  <tbody>\n",
       "    <tr>\n",
       "      <th>0</th>\n",
       "      <td>22098</td>\n",
       "      <td>6456</td>\n",
       "      <td>fm</td>\n",
       "      <td>SUB</td>\n",
       "      <td>8488</td>\n",
       "      <td>NA</td>\n",
       "      <td>8488</td>\n",
       "      <td>9778</td>\n",
       "      <td>0.272050</td>\n",
       "      <td>0.446676</td>\n",
       "      <td>9.135425</td>\n",
       "      <td>0.213495</td>\n",
       "      <td>0.878982</td>\n",
       "      <td>0.253393</td>\n",
       "      <td>1.092477</td>\n",
       "    </tr>\n",
       "    <tr>\n",
       "      <th>1</th>\n",
       "      <td>22098</td>\n",
       "      <td>6456</td>\n",
       "      <td>fm</td>\n",
       "      <td>SUB</td>\n",
       "      <td>8490</td>\n",
       "      <td>NA</td>\n",
       "      <td>8490</td>\n",
       "      <td>6756</td>\n",
       "      <td>0.275586</td>\n",
       "      <td>0.453334</td>\n",
       "      <td>9.135425</td>\n",
       "      <td>0.220777</td>\n",
       "      <td>0.880605</td>\n",
       "      <td>0.302249</td>\n",
       "      <td>1.101382</td>\n",
       "    </tr>\n",
       "    <tr>\n",
       "      <th>2</th>\n",
       "      <td>22098</td>\n",
       "      <td>6456</td>\n",
       "      <td>fm</td>\n",
       "      <td>SUB</td>\n",
       "      <td>8682</td>\n",
       "      <td>NA</td>\n",
       "      <td>8682</td>\n",
       "      <td>982</td>\n",
       "      <td>0.294894</td>\n",
       "      <td>0.493372</td>\n",
       "      <td>9.135425</td>\n",
       "      <td>0.414646</td>\n",
       "      <td>0.744537</td>\n",
       "      <td>0.979118</td>\n",
       "      <td>1.159183</td>\n",
       "    </tr>\n",
       "    <tr>\n",
       "      <th>3</th>\n",
       "      <td>22098</td>\n",
       "      <td>6456</td>\n",
       "      <td>fm</td>\n",
       "      <td>SUB</td>\n",
       "      <td>8688</td>\n",
       "      <td>NA</td>\n",
       "      <td>8688</td>\n",
       "      <td>884</td>\n",
       "      <td>0.295243</td>\n",
       "      <td>0.490169</td>\n",
       "      <td>14.618976</td>\n",
       "      <td>0.368099</td>\n",
       "      <td>0.789824</td>\n",
       "      <td>0.923233</td>\n",
       "      <td>1.157924</td>\n",
       "    </tr>\n",
       "    <tr>\n",
       "      <th>4</th>\n",
       "      <td>22098</td>\n",
       "      <td>6456</td>\n",
       "      <td>fm</td>\n",
       "      <td>SUB</td>\n",
       "      <td>8692</td>\n",
       "      <td>NA</td>\n",
       "      <td>8692</td>\n",
       "      <td>982</td>\n",
       "      <td>0.294894</td>\n",
       "      <td>0.493372</td>\n",
       "      <td>9.135425</td>\n",
       "      <td>0.414646</td>\n",
       "      <td>0.744537</td>\n",
       "      <td>0.979118</td>\n",
       "      <td>1.159183</td>\n",
       "    </tr>\n",
       "    <tr>\n",
       "      <th>...</th>\n",
       "      <td>...</td>\n",
       "      <td>...</td>\n",
       "      <td>...</td>\n",
       "      <td>...</td>\n",
       "      <td>...</td>\n",
       "      <td>...</td>\n",
       "      <td>...</td>\n",
       "      <td>...</td>\n",
       "      <td>...</td>\n",
       "      <td>...</td>\n",
       "      <td>...</td>\n",
       "      <td>...</td>\n",
       "      <td>...</td>\n",
       "      <td>...</td>\n",
       "      <td>...</td>\n",
       "    </tr>\n",
       "    <tr>\n",
       "      <th>140</th>\n",
       "      <td>22098</td>\n",
       "      <td>6456</td>\n",
       "      <td>fm</td>\n",
       "      <td>SUB</td>\n",
       "      <td>8699</td>\n",
       "      <td>OR</td>\n",
       "      <td>8703</td>\n",
       "      <td>1792</td>\n",
       "      <td>0.297948</td>\n",
       "      <td>0.482277</td>\n",
       "      <td>6.420778</td>\n",
       "      <td>0.395621</td>\n",
       "      <td>0.774986</td>\n",
       "      <td>0.576930</td>\n",
       "      <td>1.170607</td>\n",
       "    </tr>\n",
       "    <tr>\n",
       "      <th>141</th>\n",
       "      <td>22098</td>\n",
       "      <td>6456</td>\n",
       "      <td>fm</td>\n",
       "      <td>SUB</td>\n",
       "      <td>8699</td>\n",
       "      <td>XOR</td>\n",
       "      <td>8703</td>\n",
       "      <td>1704</td>\n",
       "      <td>0.297983</td>\n",
       "      <td>0.485647</td>\n",
       "      <td>6.809436</td>\n",
       "      <td>0.392883</td>\n",
       "      <td>0.774867</td>\n",
       "      <td>0.611852</td>\n",
       "      <td>1.167749</td>\n",
       "    </tr>\n",
       "    <tr>\n",
       "      <th>142</th>\n",
       "      <td>22098</td>\n",
       "      <td>6456</td>\n",
       "      <td>fm</td>\n",
       "      <td>SUB</td>\n",
       "      <td>8701</td>\n",
       "      <td>AND</td>\n",
       "      <td>8703</td>\n",
       "      <td>0</td>\n",
       "      <td>NaN</td>\n",
       "      <td>NaN</td>\n",
       "      <td>NaN</td>\n",
       "      <td>NaN</td>\n",
       "      <td>NaN</td>\n",
       "      <td>NaN</td>\n",
       "      <td>NaN</td>\n",
       "    </tr>\n",
       "    <tr>\n",
       "      <th>143</th>\n",
       "      <td>22098</td>\n",
       "      <td>6456</td>\n",
       "      <td>fm</td>\n",
       "      <td>SUB</td>\n",
       "      <td>8701</td>\n",
       "      <td>OR</td>\n",
       "      <td>8703</td>\n",
       "      <td>1525</td>\n",
       "      <td>0.296215</td>\n",
       "      <td>0.493824</td>\n",
       "      <td>13.784577</td>\n",
       "      <td>0.387088</td>\n",
       "      <td>0.775896</td>\n",
       "      <td>0.729822</td>\n",
       "      <td>1.162984</td>\n",
       "    </tr>\n",
       "    <tr>\n",
       "      <th>144</th>\n",
       "      <td>22098</td>\n",
       "      <td>6456</td>\n",
       "      <td>fm</td>\n",
       "      <td>SUB</td>\n",
       "      <td>8701</td>\n",
       "      <td>XOR</td>\n",
       "      <td>8703</td>\n",
       "      <td>1525</td>\n",
       "      <td>0.296215</td>\n",
       "      <td>0.493824</td>\n",
       "      <td>13.784577</td>\n",
       "      <td>0.387088</td>\n",
       "      <td>0.775896</td>\n",
       "      <td>0.729822</td>\n",
       "      <td>1.162984</td>\n",
       "    </tr>\n",
       "  </tbody>\n",
       "</table>\n",
       "<p>145 rows × 15 columns</p>\n",
       "</div>"
      ],
      "text/plain": [
       "     RAT_ID  Rec_GID Rtask U_LOC  U1_GID   OP  U2_GID  Nspikes       MSR  \\\n",
       "0     22098     6456    fm   SUB    8488   NA    8488     9778  0.272050   \n",
       "1     22098     6456    fm   SUB    8490   NA    8490     6756  0.275586   \n",
       "2     22098     6456    fm   SUB    8682   NA    8682      982  0.294894   \n",
       "3     22098     6456    fm   SUB    8688   NA    8688      884  0.295243   \n",
       "4     22098     6456    fm   SUB    8692   NA    8692      982  0.294894   \n",
       "..      ...      ...   ...   ...     ...  ...     ...      ...       ...   \n",
       "140   22098     6456    fm   SUB    8699   OR    8703     1792  0.297948   \n",
       "141   22098     6456    fm   SUB    8699  XOR    8703     1704  0.297983   \n",
       "142   22098     6456    fm   SUB    8701  AND    8703        0       NaN   \n",
       "143   22098     6456    fm   SUB    8701   OR    8703     1525  0.296215   \n",
       "144   22098     6456    fm   SUB    8701  XOR    8703     1525  0.296215   \n",
       "\n",
       "          MHK     dt_MHK       OHK       OHS    dt_OHK  max_HSHK  \n",
       "0    0.446676   9.135425  0.213495  0.878982  0.253393  1.092477  \n",
       "1    0.453334   9.135425  0.220777  0.880605  0.302249  1.101382  \n",
       "2    0.493372   9.135425  0.414646  0.744537  0.979118  1.159183  \n",
       "3    0.490169  14.618976  0.368099  0.789824  0.923233  1.157924  \n",
       "4    0.493372   9.135425  0.414646  0.744537  0.979118  1.159183  \n",
       "..        ...        ...       ...       ...       ...       ...  \n",
       "140  0.482277   6.420778  0.395621  0.774986  0.576930  1.170607  \n",
       "141  0.485647   6.809436  0.392883  0.774867  0.611852  1.167749  \n",
       "142       NaN        NaN       NaN       NaN       NaN       NaN  \n",
       "143  0.493824  13.784577  0.387088  0.775896  0.729822  1.162984  \n",
       "144  0.493824  13.784577  0.387088  0.775896  0.729822  1.162984  \n",
       "\n",
       "[145 rows x 15 columns]"
      ]
     },
     "execution_count": 18,
     "metadata": {},
     "output_type": "execute_result"
    }
   ],
   "source": [
    "nRec=2;\n",
    "allD=[];\n",
    "\n",
    "#checking if the duration is better than chunk size\n",
    "if dt.iloc[nRec].REC_duration > (chunksize*60): #in seconds\n",
    "    #segrecating CA1 and SUB units in the recording\n",
    "    loci = {'CA1': [], 'SUB': [], 'others': []}\n",
    "    for (s, v) in zip(dt.iloc[nRec].U_GIDs, dt.iloc[nRec].N_LOCs):\n",
    "        if 'CA1' in v:\n",
    "            loci['CA1'].append(s)\n",
    "        elif 'SUB' in v:\n",
    "            loci['SUB'].append(s)\n",
    "        else:\n",
    "            loci['others'].append(s)\n",
    "    print(loci)\n",
    "    no_CA1=len(loci['CA1'])\n",
    "    no_SUB=len(loci['SUB'])        \n",
    "    #SUB neurons loop\n",
    "    if no_SUB!= 0:\n",
    "        if no_SUB == 1:\n",
    "            allD=adding_rows(allD,'SUB',False);\n",
    "        else:\n",
    "            allD=adding_rows(allD,'SUB',True);\n",
    "    #CA1 Loop\n",
    "    if no_CA1 != 0:\n",
    "        if no_CA1 == 1:\n",
    "            allD=adding_rows(allD,'CA1',False);\n",
    "        else:\n",
    "            allD=adding_rows(allD,'CA1',True);\n",
    "pd.DataFrame(allD)    "
   ]
  },
  {
   "cell_type": "code",
   "execution_count": null,
   "metadata": {},
   "outputs": [],
   "source": []
  },
  {
   "cell_type": "code",
   "execution_count": null,
   "metadata": {},
   "outputs": [],
   "source": []
  },
  {
   "cell_type": "code",
   "execution_count": 5,
   "metadata": {},
   "outputs": [],
   "source": [
    "def empty_formatted(u1,u2,op,nspike,LOC):\n",
    "\n",
    "    rows={'RAT_ID': dt.iloc[nRec].RAT_ID,\n",
    "        'Rec_GID' : dt.iloc[nRec].REC_GID, \n",
    "        'Rtask'   : dt.iloc[nRec].task,\n",
    "        \n",
    "        'U_LOC'   :LOC,\n",
    "        'U1_GID':  u1,\n",
    "        'OP': op,\n",
    "        'U2_GID':u2,\n",
    " \n",
    "        'Nspikes':nspike,\n",
    "        'MSR':np.nan,\n",
    "        'MHK':np.nan,\n",
    "        'dt_MHK':np.nan,\n",
    "        'OHK':np.nan,\n",
    "        'OHS':np.nan,\n",
    "        'dt_OHK':np.nan,\n",
    "        'max_HSHK':np.nan\n",
    "        };\n",
    "    return rows;\n",
    "\n",
    "def single_formatted(spike_train,st,u,LOC):\n",
    "    nspikes,msr,OHKs,OHSs,maxHkpHs,Tohk,MHKs,Tmhks=MSR(spike_train,st,st+(chunksize*60),200)\n",
    "    \n",
    "    rows={'RAT_ID': dt.iloc[nRec].RAT_ID,\n",
    "        'Rec_GID' : dt.iloc[nRec].REC_GID, \n",
    "        'Rtask'   : dt.iloc[nRec].task,\n",
    "        \n",
    "        'U_LOC'   :LOC,\n",
    "        'U1_GID':  u,\n",
    "        'OP': 'NA',\n",
    "        'U2_GID':u,\n",
    " \n",
    "        'Nspikes':nspikes,\n",
    "        'MSR':msr,\n",
    "        'MHK':MHKs,\n",
    "        'dt_MHK':Tmhks,\n",
    "        'OHK':OHKs,\n",
    "        'OHS':OHSs,\n",
    "        'dt_OHK':Tohk,\n",
    "        'max_HSHK':maxHkpHs\n",
    "        };\n",
    "    return rows;\n",
    "def muli_formatted(spike_train,st,u1,u2,op,LOC):\n",
    "    #for The spike train of length = chunksize\n",
    "    nspikes,msr,OHKs,OHSs,maxHkpHs,Tohk,MHKs,Tmhks=MSR(spike_train,st,st+(chunksize*60),200)\n",
    "    \n",
    "    rows={'RAT_ID': dt.iloc[nRec].RAT_ID,\n",
    "        'Rec_GID' : dt.iloc[nRec].REC_GID, \n",
    "        'Rtask'   : dt.iloc[nRec].task,\n",
    "        \n",
    "        'U_LOC'   :LOC,\n",
    "        'U1_GID':  u1,\n",
    "        'OP': op,\n",
    "        'U2_GID':u2,\n",
    " \n",
    "        'Nspikes':nspikes,\n",
    "        'MSR':msr,\n",
    "        'MHK':MHKs,\n",
    "        'dt_MHK':Tmhks,\n",
    "        'OHK':OHKs,\n",
    "        'OHS':OHSs,\n",
    "        'dt_OHK':Tohk,\n",
    "        'max_HSHK':maxHkpHs\n",
    "        };\n",
    "    return rows;"
   ]
  },
  {
   "cell_type": "code",
   "execution_count": 6,
   "metadata": {},
   "outputs": [],
   "source": [
    "\n",
    "def adding_rows(datas,location,mul_unit):\n",
    "   bin_time=0.001 #1 milisec in seconds time resolution of binning for logical operations\n",
    "   st,en=dt.iloc[nRec].REC_timerange\n",
    "   edges = np.arange(st, en + bin_time, bin_time)\n",
    "   # Binarization of spike train lambda function\n",
    "   bined_spikes = lambda unit_id: np.array([False if x == 0 else True for x in np.histogram(dt.iloc[nRec].U_spiketimes[dt.iloc[nRec].U_GIDs.index(unit_id)], bins=edges)[0]])\n",
    "\n",
    "   #For Single Units\n",
    "   for items in loci[location]:\n",
    "      sptr=np.array(dt.iloc[nRec].U_spiketimes[dt.iloc[nRec].U_GIDs.index(items)]); #spiketrain\n",
    "      if len(np.where(sptr <= st+(chunksize*60))[0]) > 1:\n",
    "         datas.append(single_formatted(sptr,st,items,location))\n",
    "      else:\n",
    "         datas.append(empty_formatted(items,items,'NA',len(np.where(sptr <= st+(chunksize*60))[0]),location))\n",
    "   if mul_unit:   \n",
    "      #For combined Units\n",
    "      for items in list(combinations(loci[location], 2)):\n",
    "         uid1=items[0];uid2=items[1]; #unit id\n",
    "         #print(uid1,\" \",uid2)\n",
    "         \n",
    "         #binarizing the spike train with 1 ms time resolution for logical operation\n",
    "         bst1=bined_spikes(uid1);bst2=bined_spikes(uid2);\n",
    "         # & is the element wise (bit wise) AND ; where retuns indices of the True after bool operation;\n",
    "         #finally select from the time array from st to en in 1 ms resolution to create spike timestamps\n",
    "            \n",
    "         # AND operation\n",
    "         and_spike_train = np.arange(st,en+bin_time,bin_time)[np.where(bst1 & bst2)]\n",
    "         if len(np.where(and_spike_train <= st+(chunksize*60))[0]) > 1:\n",
    "            datas.append(muli_formatted(and_spike_train,st,uid1,uid2,'AND',location))\n",
    "         else:\n",
    "            datas.append(empty_formatted(uid1,uid2,'AND',len(np.where(and_spike_train <= st+(chunksize*60))[0]),location))\n",
    "         \n",
    "         # OR operation\n",
    "         or_spike_train = np.arange(st,en+bin_time,bin_time)[np.where(bst1 | bst2)]\n",
    "         if len(np.where(or_spike_train <= st+(chunksize*60))[0]) > 1:\n",
    "            datas.append(muli_formatted(or_spike_train,st,uid1,uid2,'OR',location))\n",
    "         else:\n",
    "            datas.append(empty_formatted(uid1,uid2,'OR',len(np.where(or_spike_train <= st+(chunksize*60))[0]),location))\n",
    "         \n",
    "         # XOR operation\n",
    "         xor_spike_train = np.arange(st,en+bin_time,bin_time)[np.where(bst1 ^ bst2)]\n",
    "         if len(np.where(xor_spike_train <= st+(chunksize*60))[0]) > 1:\n",
    "            datas.append(muli_formatted(xor_spike_train,st,uid1,uid2,'XOR',location))\n",
    "         else:\n",
    "            datas.append(empty_formatted(uid1,uid2,'XOR',len(np.where(xor_spike_train <= st+(chunksize*60))[0]),location))  \n",
    "   return datas \n",
    "\n",
    "\n",
    "  "
   ]
  },
  {
   "cell_type": "code",
   "execution_count": null,
   "metadata": {},
   "outputs": [],
   "source": []
  },
  {
   "cell_type": "markdown",
   "metadata": {},
   "source": [
    "# Checking individual recordings "
   ]
  },
  {
   "cell_type": "code",
   "execution_count": 33,
   "metadata": {},
   "outputs": [
    {
     "data": {
      "text/plain": [
       "True"
      ]
     },
     "execution_count": 33,
     "metadata": {},
     "output_type": "execute_result"
    }
   ],
   "source": [
    "nRec=2;\n",
    "\n",
    "#segrecating CA1 and SUB units in the recording\n",
    "loci = {'CA1': [], 'SUB': [], 'others': []}\n",
    "for (s, v) in zip(dt.iloc[nRec].U_GIDs, dt.iloc[nRec].N_LOCs):\n",
    "    if 'CA1' in v:\n",
    "        loci['CA1'].append(s)\n",
    "    elif 'SUB' in v:\n",
    "        loci['SUB'].append(s)\n",
    "    else:\n",
    "        loci['others'].append(s)\n",
    "        \n",
    "#checking if the duration is better than chunk size\n",
    "dt.iloc[nRec].REC_duration > (chunksize*60) #in seconds\n"
   ]
  },
  {
   "cell_type": "code",
   "execution_count": 34,
   "metadata": {},
   "outputs": [
    {
     "data": {
      "text/plain": [
       "RAT_ID                                                       22098\n",
       "REC_GID                                                       6456\n",
       "REC_duration                                            1600.93825\n",
       "REC_timerange                     [4104.714144, 5705.652394000001]\n",
       "REC_Date                                                01/05/2016\n",
       "N_DIDs           [286, 287, 327, 329, 330, 332, 333, 334, 335, ...\n",
       "Neu_IDs          [423, 424, 467, 469, 470, 472, 475, 476, 477, ...\n",
       "N_GIDs           [13293, 13294, 13334, 13336, 13337, 13339, 133...\n",
       "N_LOCs           [[PROX, SUB], [PROX, SUB], [PROX, SUB], [PROX,...\n",
       "task                                                            fm\n",
       "U_GIDs           [8488, 8490, 8682, 8688, 8692, 8695, 8697, 869...\n",
       "U_spiketimes     [[4104.7611, 4104.8735, 4104.9446, 4105.1203, ...\n",
       "Name: 2, dtype: object"
      ]
     },
     "execution_count": 34,
     "metadata": {},
     "output_type": "execute_result"
    }
   ],
   "source": [
    "dt.iloc[nRec]"
   ]
  },
  {
   "cell_type": "code",
   "execution_count": 73,
   "metadata": {},
   "outputs": [],
   "source": [
    "uid1=8682; #unit id\n",
    "uid2=8699; #unit id\n",
    "\n",
    "bin_time=0.001 #1 milisec in seconds time resolution of binning for logical operations"
   ]
  },
  {
   "cell_type": "code",
   "execution_count": 74,
   "metadata": {},
   "outputs": [],
   "source": [
    "st,en=dt.iloc[nRec].REC_timerange\n",
    "edges = np.arange(st, en + bin_time, bin_time)\n",
    "#binarizing the spike train with 1 ms time resolution for logical operation\n",
    "bined_spikes = lambda unit_id: np.array([False if x == 0 else True for x in np.histogram(dt.iloc[nRec].U_spiketimes[dt.iloc[nRec].U_GIDs.index(unit_id)], bins=edges)[0]])\n",
    "\n",
    "bst1=bined_spikes(uid1)\n",
    "bst2=bined_spikes(uid2)\n"
   ]
  },
  {
   "cell_type": "code",
   "execution_count": 75,
   "metadata": {},
   "outputs": [],
   "source": [
    "# AND operation\n",
    "and_spike_train = np.arange(st,en+bin_time,bin_time)[np.where(bst1 & bst2)]\n",
    "\n",
    "\n",
    "# OR operation\n",
    "or_spike_train = np.arange(st,en+bin_time,bin_time)[np.where(bst1 | bst2)]\n",
    "\n",
    "\n",
    "# XOR operation\n",
    "xor_spike_train = np.arange(st,en+bin_time,bin_time)[np.where(bst1 ^ bst2)]\n",
    "\n",
    "\n",
    "# & is the element wise (bit wise) AND ; where retuns indices of the True after bool operation;\n",
    "#finally select from the time array from st to en in 1 ms resolution to create spike timestamps"
   ]
  },
  {
   "cell_type": "code",
   "execution_count": null,
   "metadata": {},
   "outputs": [],
   "source": []
  },
  {
   "cell_type": "markdown",
   "metadata": {},
   "source": [
    "## Checking the MSR-Python"
   ]
  },
  {
   "cell_type": "code",
   "execution_count": 77,
   "metadata": {},
   "outputs": [
    {
     "name": "stdout",
     "output_type": "stream",
     "text": [
      "(2, 0.0, 0.0, 1.0, 1.0, 1e-11, 0.0, 1e-11)\n",
      "(0, 0.0, 0.0, 1.0, 1.0, 1e-11, 0.0, 1e-11)\n"
     ]
    },
    {
     "name": "stderr",
     "output_type": "stream",
     "text": [
      "/home/sapta/Dropbox/Saptarshi_Postdoc_Projects/Project_MSR/Codes_4/data_bool/../lib/func_MSR.py:25: RuntimeWarning: divide by zero encountered in log\n",
      "  ((freq * vals) / M) * (np.log(vals/M) / np.log(M)) # Entropy calculation on Base M\n",
      "/home/sapta/Dropbox/Saptarshi_Postdoc_Projects/Project_MSR/Codes_4/data_bool/../lib/func_MSR.py:29: RuntimeWarning: divide by zero encountered in log\n",
      "  ((freq * vals) / M) * (np.log( (freq * vals) /M) / np.log(M)) # Entropy calculation on Base M\n"
     ]
    }
   ],
   "source": [
    "print(MSR(and_spike_train,st,en,200))\n",
    "#for The spike train of length = chunksize\n",
    "print(MSR(and_spike_train,st,st+(chunksize*60),200))"
   ]
  },
  {
   "cell_type": "code",
   "execution_count": null,
   "metadata": {},
   "outputs": [],
   "source": []
  },
  {
   "cell_type": "markdown",
   "metadata": {},
   "source": [
    "## Relating with the neuron dataframe"
   ]
  },
  {
   "cell_type": "code",
   "execution_count": null,
   "metadata": {},
   "outputs": [],
   "source": [
    "# df=pd.read_json(path+\"Rat_\"+str(ratid)+\"_data_extracted.json\");\n",
    "\n",
    "# unit_GID_indices = {ele : (row_index, ele_index)\n",
    "#                     for row_index, row in df.iterrows()\n",
    "#                     for ele_index, ele in enumerate(row['U_GID'])}\n"
   ]
  },
  {
   "cell_type": "code",
   "execution_count": null,
   "metadata": {},
   "outputs": [],
   "source": [
    "# nRec=2;\n",
    "\n",
    "# #segrecating CA1 and SUB units in the recording\n",
    "# loci = {'CA1': [], 'SUB': [], 'others': []}\n",
    "# for (s, v) in zip(dt.iloc[nRec].U_GIDs, dt.iloc[nRec].N_LOCs):\n",
    "#     if 'CA1' in v:\n",
    "#         loci['CA1'].append(s)\n",
    "#     elif 'SUB' in v:\n",
    "#         loci['SUB'].append(s)\n",
    "#     else:\n",
    "#         loci['others'].append(s)\n",
    "        \n",
    "# #checking if the duration is better than chunk size\n",
    "# dt.iloc[nRec].REC_duration > (chunksize*60) #in seconds"
   ]
  },
  {
   "cell_type": "code",
   "execution_count": null,
   "metadata": {},
   "outputs": [],
   "source": [
    "# dt.iloc[nRec]"
   ]
  },
  {
   "cell_type": "code",
   "execution_count": null,
   "metadata": {},
   "outputs": [],
   "source": [
    "# uid=8488; #unit id\n",
    "# bin_time=0.001 #1 milisec in seconds time resolution of binning for logical operations\n",
    "# nu,uni=unit_GID_indices[uid];"
   ]
  },
  {
   "cell_type": "code",
   "execution_count": null,
   "metadata": {},
   "outputs": [],
   "source": [
    "\n",
    "# # asserting matching REC date\n",
    "# test1= df.loc[nu].REC_Date[uni] == dt.iloc[nRec].REC_Date;\n",
    "# # finding the index of the unit in the recording\n",
    "# find_index = lambda lst, target: next((index for index, value in enumerate(lst) if value == target), None)\n",
    "# #asserting matching N_GID\n",
    "# test2= df.loc[nu].N_GID ==dt.iloc[nRec].N_GIDs[find_index(dt.iloc[nRec].U_GIDs,uid)];\n",
    "# #asserting matching N_DID\n",
    "# test3=df.loc[nu].N_DID == dt.iloc[nRec].N_DIDs[find_index(dt.iloc[nRec].U_GIDs,uid)];\n",
    "# # extrating the ID of the neuron\n",
    "# Neu_ID= dt.iloc[nRec].Neu_IDs[find_index(dt.iloc[nRec].U_GIDs,uid)]\n",
    "\n",
    "# print(test1,test2,test3,Neu_ID)"
   ]
  }
 ],
 "metadata": {
  "kernelspec": {
   "display_name": "work",
   "language": "python",
   "name": "python3"
  },
  "language_info": {
   "codemirror_mode": {
    "name": "ipython",
    "version": 3
   },
   "file_extension": ".py",
   "mimetype": "text/x-python",
   "name": "python",
   "nbconvert_exporter": "python",
   "pygments_lexer": "ipython3",
   "version": "3.12.0"
  }
 },
 "nbformat": 4,
 "nbformat_minor": 2
}
