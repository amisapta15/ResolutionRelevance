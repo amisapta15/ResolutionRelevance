{
 "cells": [
  {
   "cell_type": "code",
   "execution_count": 2,
   "metadata": {},
   "outputs": [],
   "source": [
    "import sys\n",
    "sys.path.append('../lib')\n",
    "from func_MSR import *\n",
    "from func_Info import *\n",
    "import pandas as pd"
   ]
  },
  {
   "cell_type": "code",
   "execution_count": 3,
   "metadata": {},
   "outputs": [],
   "source": [
    "path=\"../data_extract/\"\n",
    "ratid=21012\n",
    "chunksize=20 #in minutes\n",
    "rats=[20382,24101,21012,22295,20630,22098,23783,24116]"
   ]
  },
  {
   "cell_type": "code",
   "execution_count": 4,
   "metadata": {},
   "outputs": [],
   "source": [
    "df=pd.read_json(path+\"Rat_\"+str(ratid)+\"_data_extracted.json\");"
   ]
  },
  {
   "cell_type": "code",
   "execution_count": 5,
   "metadata": {},
   "outputs": [
    {
     "data": {
      "text/plain": [
       "Index(['RAT_ID', 'NeuID', 'N_GID', 'LOC', 'STAT', 'rSCC', 'bScore', 'hdScore',\n",
       "       'u_spiketime', 'task', 'U_GID', 'time_range', 'duration', 'REC_Date',\n",
       "       'X', 'Y', 't', 'HD', 'MDirection', 'Speed', 'pmap'],\n",
       "      dtype='object')"
      ]
     },
     "execution_count": 5,
     "metadata": {},
     "output_type": "execute_result"
    }
   ],
   "source": [
    "df.columns"
   ]
  },
  {
   "cell_type": "code",
   "execution_count": 15,
   "metadata": {},
   "outputs": [
    {
     "name": "stdout",
     "output_type": "stream",
     "text": [
      "for Rat 21012 \n",
      "\n",
      "Neuron  0  Unit  2  with NID  230  Duration  20.988288508387633  minutes\n",
      "Neuron  0  Unit  3  with NID  230  Duration  22.133333508388024  minutes\n",
      "Neuron  0  Unit  4  with NID  230  Duration  21.244141075054845  minutes\n",
      "Neuron  1  Unit  2  with NID  231  Duration  20.988288508387633  minutes\n",
      "Neuron  1  Unit  3  with NID  231  Duration  22.133333508388024  minutes\n",
      "Neuron  1  Unit  4  with NID  231  Duration  21.244141075054845  minutes\n",
      "Neuron  2  Unit  2  with NID  232  Duration  20.988288508387633  minutes\n",
      "Neuron  2  Unit  3  with NID  232  Duration  22.133333508388024  minutes\n",
      "Neuron  2  Unit  4  with NID  232  Duration  21.244141075054845  minutes\n",
      "Neuron  3  Unit  2  with NID  233  Duration  20.988288508387633  minutes\n",
      "Neuron  3  Unit  3  with NID  233  Duration  22.133333508388024  minutes\n",
      "Neuron  3  Unit  4  with NID  233  Duration  21.244141075054845  minutes\n",
      "Neuron  4  Unit  0  with NID  234  Duration  22.980582908386715  minutes\n",
      "Neuron  4  Unit  1  with NID  234  Duration  26.201808391720988  minutes\n",
      "Neuron  4  Unit  2  with NID  234  Duration  21.877480975053427  minutes\n",
      "Neuron  4  Unit  3  with NID  234  Duration  23.261601275054268  minutes\n",
      "Neuron  4  Unit  4  with NID  234  Duration  23.718780425054266  minutes\n",
      "Neuron  5  Unit  0  with NID  235  Duration  23.66844877505427  minutes\n",
      "Neuron  5  Unit  1  with NID  235  Duration  26.66318184172099  minutes\n",
      "Neuron  6  Unit  0  with NID  236  Duration  24.003993091721107  minutes\n",
      "Neuron  8  Unit  1  with NID  238  Duration  20.988288508387633  minutes\n",
      "Neuron  9  Unit  0  with NID  239  Duration  22.133333508388024  minutes\n",
      "Neuron  9  Unit  1  with NID  239  Duration  21.244141075054845  minutes\n",
      "Neuron  9  Unit  2  with NID  239  Duration  22.573735425054263  minutes\n",
      "Neuron  9  Unit  7  with NID  239  Duration  22.682787341720935  minutes\n",
      "Neuron  9  Unit  9  with NID  239  Duration  22.250774025054366  minutes\n",
      "Neuron  9  Unit  10  with NID  239  Duration  21.44127334172105  minutes\n",
      "Neuron  9  Unit  11  with NID  239  Duration  22.980582908386715  minutes\n",
      "Neuron  9  Unit  12  with NID  239  Duration  20.078124541720413  minutes\n",
      "Neuron  9  Unit  13  with NID  239  Duration  26.201808391720988  minutes\n",
      "Neuron  9  Unit  14  with NID  239  Duration  21.877480975053427  minutes\n",
      "Neuron  9  Unit  15  with NID  239  Duration  23.261601275054268  minutes\n",
      "Neuron  9  Unit  16  with NID  239  Duration  22.724730375054243  minutes\n",
      "Neuron  9  Unit  17  with NID  239  Duration  23.718780425054266  minutes\n",
      "Neuron  9  Unit  18  with NID  239  Duration  20.048764425054227  minutes\n",
      "Neuron  9  Unit  20  with NID  239  Duration  33.697029625054284  minutes\n",
      "Neuron  9  Unit  21  with NID  239  Duration  28.466732541720923  minutes\n",
      "Neuron  9  Unit  22  with NID  239  Duration  20.241702408387603  minutes\n",
      "Neuron  10  Unit  1  with NID  240  Duration  22.745701908387602  minutes\n",
      "Neuron  10  Unit  2  with NID  240  Duration  27.3846021083876  minutes\n",
      "Neuron  10  Unit  3  with NID  240  Duration  24.427617791720934  minutes\n",
      "Neuron  11  Unit  0  with NID  241  Duration  23.66844877505427  minutes\n",
      "Neuron  11  Unit  1  with NID  241  Duration  26.66318184172099  minutes\n",
      "Neuron  17  Unit  0  with NID  247  Duration  22.133333508388024  minutes\n",
      "Neuron  17  Unit  1  with NID  247  Duration  21.244141075054845  minutes\n",
      "Neuron  17  Unit  2  with NID  247  Duration  22.573735425054263  minutes\n",
      "Neuron  17  Unit  7  with NID  247  Duration  22.682787341720935  minutes\n",
      "Neuron  17  Unit  9  with NID  247  Duration  22.250774025054366  minutes\n",
      "Neuron  18  Unit  0  with NID  248  Duration  21.877480975053427  minutes\n",
      "Neuron  18  Unit  1  with NID  248  Duration  23.261601275054268  minutes\n",
      "Neuron  18  Unit  2  with NID  248  Duration  22.724730375054243  minutes\n",
      "Neuron  18  Unit  3  with NID  248  Duration  23.718780425054266  minutes\n",
      "Neuron  18  Unit  4  with NID  248  Duration  20.048764425054227  minutes\n",
      "Neuron  18  Unit  6  with NID  248  Duration  33.697029625054284  minutes\n",
      "Neuron  18  Unit  7  with NID  248  Duration  28.466732541720923  minutes\n",
      "Neuron  18  Unit  8  with NID  248  Duration  20.241702408387603  minutes\n",
      "Neuron  18  Unit  10  with NID  248  Duration  22.745701908387602  minutes\n",
      "Neuron  18  Unit  11  with NID  248  Duration  27.3846021083876  minutes\n",
      "Neuron  18  Unit  12  with NID  248  Duration  24.427617791720934  minutes\n",
      "Neuron  19  Unit  0  with NID  249  Duration  23.66844877505427  minutes\n",
      "Neuron  19  Unit  1  with NID  249  Duration  26.66318184172099  minutes\n",
      "Neuron  20  Unit  0  with NID  250  Duration  22.682787341720935  minutes\n",
      "Neuron  20  Unit  2  with NID  250  Duration  22.250774025054366  minutes\n",
      "Neuron  20  Unit  3  with NID  250  Duration  21.44127334172105  minutes\n",
      "Neuron  23  Unit  0  with NID  253  Duration  22.980582908386715  minutes\n",
      "Neuron  23  Unit  1  with NID  253  Duration  20.078124541720413  minutes\n",
      "Neuron  23  Unit  2  with NID  253  Duration  23.718780425054266  minutes\n",
      "Neuron  23  Unit  3  with NID  253  Duration  20.048764425054227  minutes\n",
      "Neuron  25  Unit  3  with NID  255  Duration  20.988288508387633  minutes\n",
      "Neuron  25  Unit  4  with NID  255  Duration  22.133333508388024  minutes\n",
      "Neuron  25  Unit  5  with NID  255  Duration  21.244141075054845  minutes\n",
      "Neuron  25  Unit  6  with NID  255  Duration  22.573735425054263  minutes\n",
      "Neuron  25  Unit  11  with NID  255  Duration  22.682787341720935  minutes\n",
      "Neuron  25  Unit  13  with NID  255  Duration  22.250774025054366  minutes\n",
      "Neuron  25  Unit  14  with NID  255  Duration  21.44127334172105  minutes\n",
      "Neuron  25  Unit  15  with NID  255  Duration  22.980582908386715  minutes\n",
      "Neuron  25  Unit  16  with NID  255  Duration  20.078124541720413  minutes\n",
      "Neuron  25  Unit  17  with NID  255  Duration  26.201808391720988  minutes\n",
      "Neuron  25  Unit  18  with NID  255  Duration  21.877480975053427  minutes\n",
      "Neuron  25  Unit  19  with NID  255  Duration  23.261601275054268  minutes\n",
      "Neuron  25  Unit  20  with NID  255  Duration  22.724730375054243  minutes\n",
      "Neuron  25  Unit  21  with NID  255  Duration  23.718780425054266  minutes\n",
      "Neuron  25  Unit  22  with NID  255  Duration  20.048764425054227  minutes\n",
      "Neuron  25  Unit  24  with NID  255  Duration  33.697029625054284  minutes\n",
      "Neuron  25  Unit  25  with NID  255  Duration  28.466732541720923  minutes\n",
      "Neuron  25  Unit  26  with NID  255  Duration  20.241702408387603  minutes\n",
      "Neuron  27  Unit  0  with NID  257  Duration  28.18151989172094  minutes\n",
      "Neuron  27  Unit  1  with NID  257  Duration  28.466732541720923  minutes\n",
      "Neuron  27  Unit  2  with NID  257  Duration  20.241702408387603  minutes\n",
      "Neuron  27  Unit  4  with NID  257  Duration  22.745701908387602  minutes\n",
      "Neuron  27  Unit  5  with NID  257  Duration  27.3846021083876  minutes\n",
      "Neuron  29  Unit  0  with NID  259  Duration  22.573735425054263  minutes\n",
      "Neuron  29  Unit  5  with NID  259  Duration  22.682787341720935  minutes\n",
      "Neuron  29  Unit  7  with NID  259  Duration  22.250774025054366  minutes\n",
      "Neuron  29  Unit  8  with NID  259  Duration  21.44127334172105  minutes\n",
      "Neuron  29  Unit  9  with NID  259  Duration  22.980582908386715  minutes\n",
      "Neuron  29  Unit  10  with NID  259  Duration  20.078124541720413  minutes\n",
      "Neuron  29  Unit  11  with NID  259  Duration  26.201808391720988  minutes\n",
      "Neuron  29  Unit  12  with NID  259  Duration  21.877480975053427  minutes\n",
      "Neuron  29  Unit  13  with NID  259  Duration  23.261601275054268  minutes\n",
      "Neuron  29  Unit  14  with NID  259  Duration  22.724730375054243  minutes\n",
      "Neuron  29  Unit  15  with NID  259  Duration  23.718780425054266  minutes\n",
      "Neuron  29  Unit  16  with NID  259  Duration  20.048764425054227  minutes\n",
      "Neuron  30  Unit  0  with NID  260  Duration  23.66844877505427  minutes\n",
      "Neuron  30  Unit  1  with NID  260  Duration  26.66318184172099  minutes\n",
      "Neuron  30  Unit  2  with NID  260  Duration  21.5629081583876  minutes\n",
      "Neuron  30  Unit  4  with NID  260  Duration  24.003993091721107  minutes\n",
      "Neuron  34  Unit  3  with NID  264  Duration  20.988288508387633  minutes\n",
      "Neuron  35  Unit  0  with NID  265  Duration  22.133333508388024  minutes\n",
      "Neuron  35  Unit  1  with NID  265  Duration  21.244141075054845  minutes\n",
      "Neuron  35  Unit  2  with NID  265  Duration  22.573735425054263  minutes\n",
      "Neuron  35  Unit  7  with NID  265  Duration  22.682787341720935  minutes\n",
      "Neuron  35  Unit  9  with NID  265  Duration  22.250774025054366  minutes\n",
      "Neuron  35  Unit  10  with NID  265  Duration  21.44127334172105  minutes\n",
      "Neuron  35  Unit  11  with NID  265  Duration  22.980582908386715  minutes\n",
      "Neuron  35  Unit  12  with NID  265  Duration  20.078124541720413  minutes\n",
      "Neuron  35  Unit  13  with NID  265  Duration  26.201808391720988  minutes\n",
      "Neuron  35  Unit  14  with NID  265  Duration  21.877480975053427  minutes\n",
      "Neuron  35  Unit  15  with NID  265  Duration  23.261601275054268  minutes\n",
      "Neuron  35  Unit  16  with NID  265  Duration  22.724730375054243  minutes\n",
      "Neuron  35  Unit  17  with NID  265  Duration  23.718780425054266  minutes\n",
      "Neuron  35  Unit  18  with NID  265  Duration  20.048764425054227  minutes\n",
      "Neuron  35  Unit  20  with NID  265  Duration  33.697029625054284  minutes\n",
      "Neuron  35  Unit  21  with NID  265  Duration  28.18151989172094  minutes\n",
      "Neuron  35  Unit  22  with NID  265  Duration  28.466732541720923  minutes\n",
      "Neuron  35  Unit  23  with NID  265  Duration  20.241702408387603  minutes\n",
      "Neuron  35  Unit  25  with NID  265  Duration  22.745701908387602  minutes\n",
      "Neuron  35  Unit  26  with NID  265  Duration  27.3846021083876  minutes\n",
      "Neuron  35  Unit  27  with NID  265  Duration  24.427617791720934  minutes\n",
      "Neuron  36  Unit  1  with NID  266  Duration  24.003993091721107  minutes\n",
      "Neuron  37  Unit  22  with NID  267  Duration  20.988288508387633  minutes\n"
     ]
    }
   ],
   "source": [
    "# datas=[]\n",
    "# print(\"for Rat\",ratid,\"\\n\")\n",
    "# for nu in range(df.shape[0]):\n",
    "#     du=df.iloc[nu].duration\n",
    "#     for uni in range(len(du)):\n",
    "#             if du[uni]>(60*chunksize): ## if duration is more than 20 minutes \n",
    "#                     print(\"Neuron \",nu,\" Unit \",uni,\" with NID \",df.iloc[nu].NeuID,\" Duration \",du[uni]/60,\" minutes\")\n",
    "                    \n",
    "#                     if du[uni]>(60*chunksize*2): ## if duration is more than 40 minutes\n",
    "#                             print(\"!! Neuron \",nu,\" Unit \",uni,\" with NID \",df.iloc[nu].NeuID,\" Duration \",du[uni]/60,\" minutes\")\n",
    "                            \n",
    "                            \n",
    "#                     #poissonification of the entire spike train\n",
    "#                     p_st=poissonification(df.iloc[nu].u_spiketime[uni],df.iloc[nu].time_range[uni][0],df.iloc[nu].time_range[uni][-1],0.001) #wih 1ms time-bins\n",
    "                    \n",
    "#                     #MSR\n",
    "#                     nspikes,msr,OHKs,OHSs,maxHkpHs,Tohk,MHKs,Tmhks=MSR(df.iloc[nu].u_spiketime[uni],df.iloc[nu].time_range[uni][0],df.iloc[nu].time_range[uni][0]+(chunksize*60),200) #with slices of chunk-size minutes\n",
    "#                     _,ps_msr,ps_OHKs,ps_OHSs,ps_maxHkpHs,ps_Tohk,ps_MHKs,ps_Tmhks=MSR(p_st,df.iloc[nu].time_range[uni][0],df.iloc[nu].time_range[uni][0]+(chunksize*60),200)  #with slices of chunk-size minutes\n",
    "                    \n",
    "    \n",
    "#                     #Information quantities          \n",
    "#                     pinfos_content,pinfos_rate=SPinfo(df.iloc[nu].u_spiketime[uni],df.iloc[nu].X[uni],df.iloc[nu].Y[uni],df.iloc[nu].t[uni],df.iloc[nu].time_range[uni][0],df.iloc[nu].time_range[uni][0]+(chunksize*60),0.01,30) #with slices of chunk-size minutes and 30x30 spatial bins for 150x150 cm box\n",
    "#                     ps_pinfos_rate,ps_pinfos_content=SPinfo(p_st,df.iloc[nu].X[uni],df.iloc[nu].Y[uni],df.iloc[nu].t[uni],df.iloc[nu].time_range[uni][0],df.iloc[nu].time_range[uni][0]+(chunksize*60),0.01,30) #with slices of chunk-size minutes and 30x30 spatial bins for 150x150 cm box\n",
    "                    \n",
    "                    \n",
    "#                     hinfos_content,hinfos_rate=HDinfo(df.iloc[nu].u_spiketime[uni],df.iloc[nu].HD[uni],df.iloc[nu].t[uni],df.iloc[nu].time_range[uni][0],df.iloc[nu].time_range[uni][0]+(chunksize*60),0.01,50)\n",
    "#                     #with slices of chunk-size minutes and ~7deg polar bins \n",
    "#                     ps_hinfos_rate,ps_hinfos_content=HDinfo(p_st,df.iloc[nu].HD[uni],df.iloc[nu].t[uni],df.iloc[nu].time_range[uni][0],df.iloc[nu].time_range[uni][0]+(chunksize*60),0.01,50)\n",
    "                    \n",
    "                    \n",
    "                    \n",
    "#                     dicts={'RAT_ID':df.iloc[nu].RAT_ID,\n",
    "#                             'NeuID':df.iloc[nu].NeuID, \n",
    "#                             'N_GID': df.iloc[nu].N_GID,\n",
    "#                             'LOC':df.iloc[nu].LOC, \n",
    "#                             'task':df.iloc[nu].task[uni],\n",
    "#                             'U_GID':df.iloc[nu].U_GID[uni], \n",
    "#                             'time_range':df.iloc[nu].time_range[uni], \n",
    "#                             'duration':df.iloc[nu].duration[uni], \n",
    "#                             'REC_Date':df.iloc[nu].REC_Date[uni],\n",
    "#                             'extracted_pinfo':np.nan if df.iloc[nu].STAT == 'NA' else df.iloc[nu].STAT['pos']['info'],\n",
    "#                             'extracted_hinfo':np.nan if df.iloc[nu].STAT == 'NA' else df.iloc[nu].STAT['hd']['info'],\n",
    "#                             'Nspikes':nspikes,\n",
    "#                             'MSR':msr,\n",
    "#                             'MHK':MHKs,\n",
    "#                             'dt_MHK':Tmhks,\n",
    "#                             'OHK':OHKs,\n",
    "#                             'OHS':OHSs,\n",
    "#                             'dt_OHK':Tohk,\n",
    "#                             'max_HSHK':maxHkpHs,\n",
    "#                             'PInfo':{'rate':pinfos_rate,\n",
    "#                                     'content':pinfos_content\n",
    "#                                     },  \n",
    "#                             'HInfo':{'rate':hinfos_rate,\n",
    "#                                     'content':hinfos_content\n",
    "#                                     },  \n",
    "#                             'poss_MSR':ps_msr,\n",
    "#                             'poss_MHK':ps_MHKs,\n",
    "#                             'poss_dt_MHK':ps_Tmhks,\n",
    "#                             'poss_OHK':ps_OHKs,\n",
    "#                             'poss_OHS':ps_OHSs,\n",
    "#                             'poss_dt_OHK':ps_Tohk,\n",
    "#                             'poss_max_HSHK':ps_maxHkpHs,\n",
    "#                             'poss_PInfo':{'rate':ps_pinfos_rate,\n",
    "#                                     'content':ps_pinfos_content\n",
    "#                                     } , \n",
    "#                             'poss_HInfo':{'rate':ps_hinfos_rate,\n",
    "#                                     'content':ps_hinfos_content\n",
    "#                                     },               \n",
    "#                             };\n",
    "#                     datas.append(dicts)\n",
    "# rat_data=pd.DataFrame(datas)"
   ]
  },
  {
   "cell_type": "code",
   "execution_count": null,
   "metadata": {},
   "outputs": [],
   "source": []
  },
  {
   "cell_type": "markdown",
   "metadata": {},
   "source": [
    "# Checking individual recordings for a neuron \n",
    "for particular Rat to compare Julia and Python"
   ]
  },
  {
   "cell_type": "code",
   "execution_count": 6,
   "metadata": {},
   "outputs": [],
   "source": [
    "# for nu in range(df.shape[0]):\n",
    "#     print(df.iloc[nu].duration)"
   ]
  },
  {
   "cell_type": "code",
   "execution_count": 12,
   "metadata": {},
   "outputs": [
    {
     "name": "stdout",
     "output_type": "stream",
     "text": [
      "238\n"
     ]
    }
   ],
   "source": [
    "nu=8;uni=1;print(df.iloc[nu].NeuID)"
   ]
  },
  {
   "cell_type": "code",
   "execution_count": 8,
   "metadata": {},
   "outputs": [
    {
     "ename": "TypeError",
     "evalue": "string indices must be integers, not 'str'",
     "output_type": "error",
     "traceback": [
      "\u001b[0;31m---------------------------------------------------------------------------\u001b[0m",
      "\u001b[0;31mTypeError\u001b[0m                                 Traceback (most recent call last)",
      "Cell \u001b[0;32mIn[8], line 1\u001b[0m\n\u001b[0;32m----> 1\u001b[0m \u001b[43mdf\u001b[49m\u001b[38;5;241;43m.\u001b[39;49m\u001b[43miloc\u001b[49m\u001b[43m[\u001b[49m\u001b[43mnu\u001b[49m\u001b[43m]\u001b[49m\u001b[38;5;241;43m.\u001b[39;49m\u001b[43mSTAT\u001b[49m\u001b[43m[\u001b[49m\u001b[38;5;124;43m'\u001b[39;49m\u001b[38;5;124;43mpos\u001b[39;49m\u001b[38;5;124;43m'\u001b[39;49m\u001b[43m]\u001b[49m[\u001b[38;5;124m'\u001b[39m\u001b[38;5;124minfo\u001b[39m\u001b[38;5;124m'\u001b[39m],df\u001b[38;5;241m.\u001b[39miloc[nu]\u001b[38;5;241m.\u001b[39mSTAT[\u001b[38;5;124m'\u001b[39m\u001b[38;5;124mhd\u001b[39m\u001b[38;5;124m'\u001b[39m][\u001b[38;5;124m'\u001b[39m\u001b[38;5;124minfo\u001b[39m\u001b[38;5;124m'\u001b[39m]\n",
      "\u001b[0;31mTypeError\u001b[0m: string indices must be integers, not 'str'"
     ]
    }
   ],
   "source": [
    "df.iloc[nu].STAT['pos']['info'],df.iloc[nu].STAT['hd']['info']"
   ]
  },
  {
   "cell_type": "code",
   "execution_count": 9,
   "metadata": {},
   "outputs": [
    {
     "data": {
      "text/plain": [
       "(1259.297310503258, 1259.297310503258)"
      ]
     },
     "execution_count": 9,
     "metadata": {},
     "output_type": "execute_result"
    }
   ],
   "source": [
    "df.iloc[nu].time_range[uni][-1] - df.iloc[nu].time_range[uni][0] , df.iloc[nu].duration[uni]"
   ]
  },
  {
   "cell_type": "code",
   "execution_count": 10,
   "metadata": {},
   "outputs": [
    {
     "data": {
      "text/plain": [
       "(101715.0633, 102974.36061050325)"
      ]
     },
     "execution_count": 10,
     "metadata": {},
     "output_type": "execute_result"
    }
   ],
   "source": [
    "df.iloc[nu].time_range[uni][0],df.iloc[nu].time_range[uni][-1]"
   ]
  },
  {
   "cell_type": "code",
   "execution_count": 11,
   "metadata": {},
   "outputs": [
    {
     "data": {
      "text/plain": [
       "(101715.0633, 102915.0633)"
      ]
     },
     "execution_count": 11,
     "metadata": {},
     "output_type": "execute_result"
    }
   ],
   "source": [
    "df.iloc[nu].time_range[uni][0],df.iloc[nu].time_range[uni][0]+(chunksize*60)"
   ]
  },
  {
   "cell_type": "markdown",
   "metadata": {},
   "source": [
    "## Checking the MSR-Python"
   ]
  },
  {
   "cell_type": "code",
   "execution_count": 12,
   "metadata": {},
   "outputs": [
    {
     "name": "stdout",
     "output_type": "stream",
     "text": [
      "(283, 0.2805699722270798, 0.33626996201335435, 0.8497654436472073, 1.1860354056605615, 0.16015957561811073, 0.4286497798881106, 2.721037982355257)\n",
      "(282, 0.2820211023544301, 0.37725392090230864, 0.8116911986902682, 1.1889451195925769, 0.23892978256490885, 0.4374543401479052, 2.229277815277869)\n"
     ]
    }
   ],
   "source": [
    "print(MSR(df.iloc[nu].u_spiketime[uni],df.iloc[nu].time_range[uni][0],df.iloc[nu].time_range[uni][-1],200))\n",
    "#for The spike train of length = chunksize\n",
    "print(MSR(df.iloc[nu].u_spiketime[uni],df.iloc[nu].time_range[uni][0],df.iloc[nu].time_range[uni][0]+(chunksize*60),200))"
   ]
  },
  {
   "cell_type": "code",
   "execution_count": null,
   "metadata": {},
   "outputs": [],
   "source": []
  },
  {
   "cell_type": "markdown",
   "metadata": {},
   "source": [
    "## Checking the info-Python"
   ]
  },
  {
   "cell_type": "code",
   "execution_count": 16,
   "metadata": {},
   "outputs": [
    {
     "name": "stdout",
     "output_type": "stream",
     "text": [
      "(1.0042314015126688, 0.47127370075401914)\n",
      "(1.0470553039344996, 0.4816454398098699)\n"
     ]
    }
   ],
   "source": [
    "print(SPinfo(df.iloc[nu].u_spiketime[uni],df.iloc[nu].X[uni],df.iloc[nu].Y[uni],df.iloc[nu].t[uni],df.iloc[nu].time_range[uni][0],df.iloc[nu].time_range[uni][-1],0.01,30))\n",
    "#for The spike train of length = chunksize\n",
    "print(SPinfo(df.iloc[nu].u_spiketime[uni],df.iloc[nu].X[uni],df.iloc[nu].Y[uni],df.iloc[nu].t[uni],df.iloc[nu].time_range[uni][0],df.iloc[nu].time_range[uni][0]+(chunksize*60),0.01,30))"
   ]
  },
  {
   "cell_type": "code",
   "execution_count": 17,
   "metadata": {},
   "outputs": [
    {
     "name": "stdout",
     "output_type": "stream",
     "text": [
      "(0.2701625012171084, 0.12678400771153608)\n",
      "(0.2945910111911826, 0.135511865147944)\n"
     ]
    }
   ],
   "source": [
    "print(HDinfo(df.iloc[nu].u_spiketime[uni],df.iloc[nu].HD[uni],df.iloc[nu].t[uni],df.iloc[nu].time_range[uni][0],df.iloc[nu].time_range[uni][-1],0.01,50))\n",
    "#for The spike train of length = chunksize\n",
    "print(HDinfo(df.iloc[nu].u_spiketime[uni],df.iloc[nu].HD[uni],df.iloc[nu].t[uni],df.iloc[nu].time_range[uni][0],df.iloc[nu].time_range[uni][0]+(chunksize*60),0.01,50))"
   ]
  },
  {
   "cell_type": "markdown",
   "metadata": {},
   "source": [
    "## Checking the MSR-Julia"
   ]
  },
  {
   "cell_type": "code",
   "execution_count": 18,
   "metadata": {},
   "outputs": [],
   "source": [
    "# from julia.api import Julia\n",
    "# jl = Julia(compiled_modules=False)\n",
    "# from julia import Main\n",
    "# Main.include(\"../lib/func_MSR.jl\")\n",
    "# Main.include(\"../lib/func_Info.jl\")"
   ]
  },
  {
   "cell_type": "code",
   "execution_count": 13,
   "metadata": {},
   "outputs": [],
   "source": [
    "from julia.api import Julia\n",
    "jl = Julia(compiled_modules=False)\n",
    "jl.eval(\"\"\"\n",
    "        include(\"../lib/func_MSR.jl\")\n",
    "        include(\"../lib/func_Info.jl\")\n",
    "        \"\"\")\n",
    "cal_msr=jl.eval(\"cal_msr\")\n",
    "Hinfo=jl.eval(\"HDinfo\")\n",
    "Pinfo=jl.eval(\"SPinfo\")"
   ]
  },
  {
   "cell_type": "code",
   "execution_count": 14,
   "metadata": {},
   "outputs": [
    {
     "name": "stdout",
     "output_type": "stream",
     "text": [
      "(0.2805699722270798, 0.33626996201335435, 0.1601595756181108, 0.42864977988811065)\n",
      "(0.28202110235443006, 0.3772539209023086, 0.23892978256490874, 0.4374543401479052)\n"
     ]
    }
   ],
   "source": [
    "print(cal_msr(df.iloc[nu].u_spiketime[uni],df.iloc[nu].time_range[uni],200))\n",
    "#for The spike train of length = chunksize\n",
    "print(cal_msr(df.iloc[nu].u_spiketime[uni],[df.iloc[nu].time_range[uni][0],df.iloc[nu].time_range[uni][0]+(chunksize*60)],200))"
   ]
  },
  {
   "cell_type": "markdown",
   "metadata": {},
   "source": [
    "## Checking the info-Julia"
   ]
  },
  {
   "cell_type": "code",
   "execution_count": 21,
   "metadata": {},
   "outputs": [
    {
     "name": "stdout",
     "output_type": "stream",
     "text": [
      "(1.0042314015126688, 0.4712737007540192)\n",
      "(1.0281998972595905, 0.4729719527394116)\n"
     ]
    }
   ],
   "source": [
    "print(Pinfo(df.iloc[nu].u_spiketime[uni],df.iloc[nu].X[uni],df.iloc[nu].Y[uni],df.iloc[nu].t[uni],df.iloc[nu].time_range[uni][0],df.iloc[nu].time_range[uni][-1],0.01,30))\n",
    "#for The spike train of length = chunksize\n",
    "print(Pinfo(df.iloc[nu].u_spiketime[uni],df.iloc[nu].X[uni],df.iloc[nu].Y[uni],df.iloc[nu].t[uni],df.iloc[nu].time_range[uni][0],df.iloc[nu].time_range[uni][0]+(chunksize*60),0.01,30))"
   ]
  },
  {
   "cell_type": "code",
   "execution_count": 22,
   "metadata": {},
   "outputs": [
    {
     "name": "stdout",
     "output_type": "stream",
     "text": [
      "(0.2701557163620153, 0.12678082366076454)\n",
      "(0.28875229530309887, 0.1328260558394255)\n"
     ]
    }
   ],
   "source": [
    "print(Hinfo(df.iloc[nu].u_spiketime[uni],df.iloc[nu].HD[uni],df.iloc[nu].t[uni],df.iloc[nu].time_range[uni][0],df.iloc[nu].time_range[uni][-1],0.01,50))\n",
    "#for The spike train of length = chunksize\n",
    "print(Hinfo(df.iloc[nu].u_spiketime[uni],df.iloc[nu].HD[uni],df.iloc[nu].t[uni],df.iloc[nu].time_range[uni][0],df.iloc[nu].time_range[uni][0]+(chunksize*60),0.01,50))"
   ]
  },
  {
   "cell_type": "code",
   "execution_count": null,
   "metadata": {},
   "outputs": [],
   "source": []
  },
  {
   "cell_type": "markdown",
   "metadata": {},
   "source": [
    "## Random Shuffling"
   ]
  },
  {
   "cell_type": "code",
   "execution_count": 19,
   "metadata": {},
   "outputs": [
    {
     "name": "stdout",
     "output_type": "stream",
     "text": [
      "(0.26761101569691115, 0.19914853123501833, 0.3070869455453613)\n",
      "(0.24795144596427937, 0.1712535377230123, 0.27288299966783075)\n"
     ]
    }
   ],
   "source": [
    "print(MSR(df.iloc[nu].u_spiketime[uni],df.iloc[nu].time_range[uni][0],df.iloc[nu].time_range[uni][-1],200))\n",
    "p_st=poissonification(df.iloc[nu].u_spiketime[uni],df.iloc[nu].time_range[uni][0],df.iloc[nu].time_range[uni][-1],0.001)\n",
    "print(MSR(p_st,df.iloc[nu].time_range[uni][0],df.iloc[nu].time_range[uni][-1],200))"
   ]
  },
  {
   "cell_type": "code",
   "execution_count": null,
   "metadata": {},
   "outputs": [],
   "source": [
    "spike_train=df.iloc[nu].u_spiketime[uni]\n",
    "st=df.iloc[nu].time_range[uni][0]\n",
    "en=df.iloc[nu].time_range[uni][-1]\n",
    "dt=0.001;tt=np.arange(st,en,dt);\n",
    "e_bst=np.histogram(spike_train,bins=tt)[0]\n",
    "rng = np.random.default_rng()\n",
    "\n",
    "experimental_firing_rate = np.sum(e_bst) / (len(b_st)*dt)\n",
    "p1_bst = rng.random((len(e_bst),)) < (experimental_firing_rate  *dt)\n",
    "p2_bst=e_bst.astype(bool).copy(); \n",
    "for _ in range(1000):\n",
    "    rng.shuffle(p2_bst)"
   ]
  },
  {
   "cell_type": "code",
   "execution_count": 77,
   "metadata": {},
   "outputs": [
    {
     "name": "stdout",
     "output_type": "stream",
     "text": [
      "(0.26787030194226635, 0.21761842939347856, 0.38889387514338875)\n",
      "(0.23256236839560718, 0.12839479592388175, 0.024245802168484876)\n",
      "(0.24387233276394726, 0.18768482667120093, 0.3257645272302907)\n"
     ]
    }
   ],
   "source": [
    "print(MSR(tt[:-1][e_bst.astype(bool)],df.iloc[nu].time_range[uni][0],df.iloc[nu].time_range[uni][-1],200))\n",
    "print(MSR(tt[:-1][p1_bst],df.iloc[nu].time_range[uni][0],df.iloc[nu].time_range[uni][-1],200))\n",
    "print(MSR(tt[:-1][p2_bst],df.iloc[nu].time_range[uni][0],df.iloc[nu].time_range[uni][-1],200))"
   ]
  },
  {
   "cell_type": "code",
   "execution_count": null,
   "metadata": {},
   "outputs": [],
   "source": []
  },
  {
   "cell_type": "code",
   "execution_count": null,
   "metadata": {},
   "outputs": [],
   "source": []
  },
  {
   "cell_type": "code",
   "execution_count": null,
   "metadata": {},
   "outputs": [],
   "source": []
  },
  {
   "cell_type": "code",
   "execution_count": 17,
   "metadata": {},
   "outputs": [
    {
     "data": {
      "image/png": "[encoded data removed]",
      "text/plain": [
       "<Figure size 800x800 with 5 Axes>"
      ]
     },
     "metadata": {},
     "output_type": "display_data"
    }
   ],
   "source": [
    "import matplotlib.pyplot as plt\n",
    "import matplotlib.gridspec as gridspec\n",
    "import numpy as np\n",
    "\n",
    "x = np.random.beta(2,5,size=int(1e4))\n",
    "y = np.random.randn(int(1e4))\n",
    "\n",
    "fig = plt.figure(figsize=(8,8))\n",
    "gs = gridspec.GridSpec(3, 3)\n",
    "ax_main = plt.subplot(gs[1:3, :2])\n",
    "ax_xDist = plt.subplot(gs[0, :2],sharex=ax_main)\n",
    "ax_yDist = plt.subplot(gs[1:3, 2],sharey=ax_main)\n",
    "    \n",
    "ax_main.scatter(x,y,marker='.')\n",
    "ax_main.set(xlabel=\"x data\", ylabel=\"y data\")\n",
    "\n",
    "ax_xDist.hist(x,bins=100,align='mid')\n",
    "ax_xDist.set(ylabel='count')\n",
    "ax_xCumDist = ax_xDist.twinx()\n",
    "ax_xCumDist.hist(x,bins=100,cumulative=True,histtype='step',density=True,color='r',align='mid')\n",
    "ax_xCumDist.tick_params('y', colors='r')\n",
    "ax_xCumDist.set_ylabel('cumulative',color='r')\n",
    "\n",
    "ax_yDist.hist(y,bins=100,orientation='horizontal',align='mid')\n",
    "ax_yDist.set(xlabel='count')\n",
    "ax_yCumDist = ax_yDist.twiny()\n",
    "ax_yCumDist.hist(y,bins=100,cumulative=True,histtype='step',density=True,color='r',align='mid',orientation='horizontal')\n",
    "ax_yCumDist.tick_params('x', colors='r')\n",
    "ax_yCumDist.set_xlabel('cumulative',color='r')\n",
    "\n",
    "plt.show()"
   ]
  },
  {
   "cell_type": "markdown",
   "metadata": {},
   "source": [
    "## Julia in Python Fucntions"
   ]
  },
  {
   "cell_type": "code",
   "execution_count": 18,
   "metadata": {},
   "outputs": [
    {
     "name": "stdout",
     "output_type": "stream",
     "text": [
      "Received array in Julia:[1, 2, 3, 4, 5]\n",
      "Received number in Julia:3.14\n"
     ]
    }
   ],
   "source": [
    "# import julia\n",
    "# jl = julia.Julia()\n",
    "\n",
    "# Define a Julia function\n",
    "baz=jl.eval(\"\"\"\n",
    "function my_julia_function(arr, num)\n",
    "    println(\"Received array in Julia:\", arr)\n",
    "    println(\"Received number in Julia:\", num)\n",
    "    # Your Julia code here using the array and number\n",
    "end\n",
    "\n",
    "function my_julia_function2(arr, num)\n",
    "    println(\"Received ardfkn  Julia:\", arr)\n",
    "    println(\"Received nukmfdskdsfmber in Julia:\", num)\n",
    "    # Your Julia code here using the array and number\n",
    "end\n",
    "\n",
    "\"\"\")\n",
    "\n",
    "bgf=jl.eval(\"my_julia_function\")\n",
    "bgf2=jl.eval(\"my_julia_function2\")\n",
    "# Create a NumPy array in Python\n",
    "python_array = [1, 2, 3, 4, 5]\n",
    "\n",
    "# Define a floating-point number in Python\n",
    "floating_number = 3.14\n",
    "\n",
    "# Call the Julia function with the Julia array and floating-point number\n",
    "bgf(python_array, floating_number)"
   ]
  },
  {
   "cell_type": "code",
   "execution_count": 19,
   "metadata": {},
   "outputs": [
    {
     "data": {
      "text/plain": [
       "'857.8555'"
      ]
     },
     "execution_count": 19,
     "metadata": {},
     "output_type": "execute_result"
    }
   ],
   "source": [
    "'{0:.4f}'.format(8.57855500e+02)"
   ]
  },
  {
   "cell_type": "code",
   "execution_count": null,
   "metadata": {},
   "outputs": [],
   "source": []
  }
 ],
 "metadata": {
  "kernelspec": {
   "display_name": "work",
   "language": "python",
   "name": "python3"
  },
  "language_info": {
   "codemirror_mode": {
    "name": "ipython",
    "version": 3
   },
   "file_extension": ".py",
   "mimetype": "text/x-python",
   "name": "python",
   "nbconvert_exporter": "python",
   "pygments_lexer": "ipython3",
   "version": "3.11.7"
  }
 },
 "nbformat": 4,
 "nbformat_minor": 2
}
