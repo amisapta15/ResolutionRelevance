{
 "cells": [
  {
   "cell_type": "code",
   "execution_count": 145,
   "metadata": {},
   "outputs": [],
   "source": [
    "import pandas as pd\n",
    "import numpy as np"
   ]
  },
  {
   "cell_type": "code",
   "execution_count": 146,
   "metadata": {},
   "outputs": [],
   "source": [
    "import matplotlib as mpl\n",
    "import matplotlib.pyplot as plt"
   ]
  },
  {
   "cell_type": "code",
   "execution_count": 147,
   "metadata": {},
   "outputs": [],
   "source": [
    "mpl.rcParams.update({\n",
    "    'font.family': 'serif',\n",
    "    'font.serif': ['Palatino', 'Georgia'],  # Add or remove font names as needed\n",
    "    'text.usetex': True,\n",
    "    'text.latex.preamble': r'\\usepackage{amsmath} \\usepackage{amsfonts}',\n",
    "    'font.size': 22  # Adjust as needed\n",
    "})"
   ]
  },
  {
   "cell_type": "code",
   "execution_count": 148,
   "metadata": {},
   "outputs": [],
   "source": [
    "rats=[20382,24101,21012,22295,20630,22098,23783,24116]\n",
    "path=\"../data_bool/\"\n",
    "#df = pd.DataFrame()\n",
    "rat=24116\n",
    "df=pd.read_json(path+\"Rat_\"+str(rat)+\"_BOOLop_resrel_data.json\")\n",
    "df = df.fillna(0)\n",
    "rec_gids=df.Rec_GID.unique()"
   ]
  },
  {
   "cell_type": "code",
   "execution_count": 149,
   "metadata": {},
   "outputs": [],
   "source": [
    "# for ratid in rats:\n",
    "#     tmp_df=pd.read_json(path+\"Rat_\"+str(ratid)+\"_BOOLop_resrel_data.json\")\n",
    "#     df = pd.concat([df,tmp_df], ignore_index=True)"
   ]
  },
  {
   "cell_type": "code",
   "execution_count": 150,
   "metadata": {},
   "outputs": [],
   "source": [
    "df_AND=df.query('OP == \"AND\"')\n",
    "df_OR=df.query('OP == \"OR\"')\n",
    "df_XOR=df.iloc[df.query('OP == \"OR\"').index + 1 ] ##For XOR, the next row is the result\n",
    "assert np.array_equal(df_OR.U1_GID.values,df_XOR.U1_GID.values)\n",
    "assert np.array_equal(df_OR.U2_GID.values,df_XOR.U2_GID.values)"
   ]
  },
  {
   "cell_type": "code",
   "execution_count": 151,
   "metadata": {},
   "outputs": [],
   "source": [
    "quant='MSR'\n",
    "# figname='../figures/Fig3B.png'\n",
    "# figname2='../../../../Apps/Overleaf/Project_Relevance_of_CA1_SUB/img/Fig3B.png'\n",
    "\n",
    "# figname='../figures/Fig3A_'+str(rat)+'.png'\n",
    "# figname2='../../../../Apps/Overleaf/Project_Relevance_of_CA1_SUB/simg/Fig3A_'+str(rat)+'.png'"
   ]
  },
  {
   "cell_type": "code",
   "execution_count": 152,
   "metadata": {},
   "outputs": [],
   "source": [
    "quant_OR_vals={unit : df.query('U1_GID=='+str(unit)+' and OP==\"NA\"')[quant].values[0] for unit in np.unique(np.hstack((df_OR.U1_GID.values,df_OR.U2_GID.values)))}\n",
    "quant_AND_vals={unit : df.query('U1_GID=='+str(unit)+' and OP==\"NA\"')[quant].values[0] for unit in np.unique(np.hstack((df_AND.U1_GID.values,df_AND.U2_GID.values)))}\n",
    "\n",
    "OR_list=[]\n",
    "for (a,b) in df_OR[[quant,\"U1_GID\",\"U2_GID\",\"Nspikes\",\"U_LOC\",\"Rec_GID\"]].iterrows():\n",
    "    row={quant:b.values[0],\n",
    "            'U1_GID':b.values[1],\n",
    "            'U2_GID':b.values[2],\n",
    "            'U1_'+quant:quant_OR_vals[b.values[1]],\n",
    "            'U2_'+quant:quant_OR_vals[b.values[2]],\n",
    "            'R_'+quant+'_MAX':np.max([quant_OR_vals[b.values[1]],quant_OR_vals[b.values[2]]]),\n",
    "            'Nspike':b.values[3],\n",
    "            'loc':b.values[4],\n",
    "            'Rec_GID':b.values[5]\n",
    "          };\n",
    "    OR_list.append(row)\n",
    "list_of_OR=pd.DataFrame(OR_list)\n",
    "\n",
    "AND_list=[]\n",
    "for (a,b) in df_AND[[quant,\"U1_GID\",\"U2_GID\",\"Nspikes\",\"U_LOC\",\"Rec_GID\"]].iterrows():\n",
    "    row={quant:b.values[0],\n",
    "            'U1_GID':b.values[1],\n",
    "            'U2_GID':b.values[2],\n",
    "            'U1_'+quant:quant_AND_vals[b.values[1]],\n",
    "            'U2_'+quant:quant_AND_vals[b.values[2]],\n",
    "            'R_'+quant+'_MAX':np.max([quant_AND_vals[b.values[1]],quant_AND_vals[b.values[2]]]),\n",
    "            'Nspike':b.values[3],\n",
    "            'loc':b.values[4],\n",
    "            'Rec_GID':b.values[5]\n",
    "          };\n",
    "    AND_list.append(row)\n",
    "list_of_AND=pd.DataFrame(AND_list)\n",
    "# list_of_AND[quant] = list_of_AND[quant].replace(0, np.nan)"
   ]
  },
  {
   "cell_type": "code",
   "execution_count": 153,
   "metadata": {},
   "outputs": [],
   "source": [
    "import matplotlib.pyplot as plt"
   ]
  },
  {
   "cell_type": "code",
   "execution_count": null,
   "metadata": {},
   "outputs": [],
   "source": []
  },
  {
   "cell_type": "code",
   "execution_count": 154,
   "metadata": {},
   "outputs": [],
   "source": [
    "# fig, ((ax1,ax2),(ax3,ax4)) = plt.subplots(2,2,figsize=(17,10))\n",
    "\n",
    "# props = dict(boxstyle='round', facecolor='wheat', alpha=0.5)\n",
    "\n",
    "# qmin=0.245;qmax=0.305; mss=30 #For MSR\n",
    "# #qmin=0.1;qmax=0.5; mss=30 #For OHK\n",
    "# ax1.scatter(df_OR.query('U_LOC==\"CA1\"')[quant].values,df_XOR.query('U_LOC==\"CA1\"')[quant].values, label='CA1 Neurons', marker='D', facecolors='none',edgecolors='g',s=mss)\n",
    "# ax1.plot([0, qmax], [0, qmax], 'r--', lw=1) ## Diagonal Line\n",
    "\n",
    "# ax1.set_xlim([qmin,qmax]);ax1.set_ylim([qmin,qmax])\n",
    "# ax1.tick_params(axis='both', which='both', bottom=True, top=False, left=True, right=False, labelbottom=False,labelleft=True,rotation=0)\n",
    "# ax1.set_ylabel(quant+r'-$\\mathrm{XOR\\oplus_{i,j}}$');\n",
    "\n",
    "\n",
    "\n",
    "# ax3.scatter(df_OR.query('U_LOC==\"SUB\"')[quant].values,df_XOR.query('U_LOC==\"SUB\"')[quant].values,\n",
    "#          label='SUB Neurons', marker='o', facecolors='none',edgecolors='b',s=mss)\n",
    "# ax3.plot([0, qmax], [0, qmax], 'r--', lw=1) ## Diagonal Line\n",
    "# ax3.set_xlim([qmin,qmax]);ax3.set_ylim([qmin,qmax])\n",
    "# ax3.tick_params(axis='both', which='both', bottom=True, top=False, left=True, right=False, labelbottom=True,labelleft=True,rotation=0)\n",
    "# ax3.set_xlabel(quant+r'- $\\mathrm{OR\\lor_{i,j}}$');\n",
    "# ax3.set_ylabel(quant+r'- $\\mathrm{XOR\\oplus_{i,j}}$');\n",
    "\n",
    "\n",
    "\n",
    "\n",
    "# #MSR\n",
    "# xqmax=0.31;xqmin=0.25;\n",
    "# yqmax=0.32;yqmin=-0.01;\n",
    "\n",
    "# #OHK\n",
    "# # xqmax=0.6;xqmin=0.1;\n",
    "# # yqmax=0.6;yqmin=0.1;\n",
    "\n",
    "# ax2.scatter(list_of_AND.query('loc==\"CA1\"')[\"R_\"+quant+\"_MAX\"].values,list_of_AND.query('loc==\"CA1\"')[quant].values,\n",
    "#          label='ANDed CA1 Neurons', marker='+', color='k',s=30)\n",
    "\n",
    "# ax2.scatter(list_of_OR.query('loc==\"CA1\"')[\"R_\"+quant+\"_MAX\"].values,list_of_OR.query('loc==\"CA1\"')[quant].values,\n",
    "#          label='ORed CA1 Neurons', marker='D', facecolors='none',edgecolors='g',s=50)\n",
    "# ax2.plot([0, yqmax], [0, yqmax], 'r--', lw=1) ## Diagonal Line#\n",
    "\n",
    "\n",
    "# ax2_twin = ax2.twinx()\n",
    "# ax2_twin.tick_params(axis='y', which='both', labelleft=False, labelright=True, colors='g')\n",
    "# ax2.tick_params(axis='both', which='both', bottom=True, top=False, left=True, right=True, labelbottom=False,labelleft=True,rotation=0)\n",
    "\n",
    "# ax2.set_xlim([xqmin,xqmax]);ax2.set_ylim([yqmin,yqmax]);ax2_twin.set_ylim([yqmin,yqmax]);\n",
    "# ax2_twin.set_ylabel(quant+r'- $\\mathrm{AND(\\land_{i,j})} \\&$ $\\mathrm{OR(\\lor_{i,j})}$');\n",
    "\n",
    "# # place a text box in upper left in axes coords\n",
    "# ax2.text(0.05, 0.25,  r'$CA1_{AND} = %.4f$' % (np.round(list_of_AND.query('loc==\"CA1\" and MSR>R_MSR_MAX').shape[0]/list_of_AND.query('loc==\"CA1\"').shape[0],4)), \n",
    "#          transform=ax2.transAxes, fontsize=22, verticalalignment='top', bbox=props)\n",
    "\n",
    "\n",
    "\n",
    "\n",
    "# ax4.scatter(list_of_AND.query('loc==\"SUB\"')[\"R_\"+quant+\"_MAX\"].values,list_of_AND.query('loc==\"SUB\"')[quant].values,\n",
    "#          label='ANDed SUB Neurons', marker='x', color='k',s=30)\n",
    "\n",
    "# ax4.scatter(list_of_OR.query('loc==\"SUB\"')[\"R_\"+quant+\"_MAX\"].values,list_of_OR.query('loc==\"SUB\"')[quant].values,\n",
    "#          label='ORed SUB Neurons', marker='o', facecolors='none',edgecolors='b',s=50)\n",
    "# ax4.plot([0, yqmax], [0, yqmax], 'r--', lw=1) ## Diagonal Line#\n",
    "\n",
    "# ax4_twin = ax4.twinx()\n",
    "# ax4_twin.tick_params(axis='y', which='both', labelleft=False, labelright=True, colors='b')\n",
    "# ax4.tick_params(axis='both', which='both', bottom=True, top=False, left=True, right=True, labelbottom=True,labelleft=True,rotation=0)\n",
    "# ax4.set_xlim([xqmin,xqmax]);ax4.set_ylim([yqmin,yqmax]);ax4_twin.set_ylim([yqmin,yqmax]);\n",
    "# ax4.set_xlabel(r'max \\{$\\mathrm{'+quant+r'_i,'+quant+r'_j}\\}$');\n",
    "# ax4_twin.set_ylabel(quant+r'- $\\mathrm{AND(\\land_{i,j})} \\&$ $\\mathrm{OR(\\lor_{i,j})}$');\n",
    "\n",
    "# # place a text box in upper left in axes coords\n",
    "# # place a text box in upper left in axes coords\n",
    "# ax4.text(0.05, 0.25,  r'$SUB_{AND} = %.4f$' % (np.round(list_of_AND.query('loc==\"SUB\" and MSR>R_MSR_MAX').shape[0]/list_of_AND.query('loc==\"SUB\"').shape[0],4)), \n",
    "#          transform=ax4.transAxes, fontsize=22, verticalalignment='top', bbox=props)\n",
    "\n",
    "\n",
    "\n",
    "# handles, labels = [], []\n",
    "# for ax in [ax1,ax2, ax2_twin,ax3,ax4,ax4_twin]:  # Add the axes that contain the plots you want in the legend\n",
    "#     for h, l in zip(*ax.get_legend_handles_labels()):\n",
    "#         handles.append(h)\n",
    "#         labels.append(l)\n",
    "\n",
    "# # Create a single legend for the whole figure\n",
    "# fig.legend(handles, labels, loc='upper center', bbox_to_anchor=(0.5, 0.98), ncol=3,fontsize=15)\n",
    "\n",
    "\n",
    "# plt.subplots_adjust(wspace=0.11,hspace=0.06)\n",
    "# #plt.tight_layout()\n",
    "# # plt.savefig(figname,dpi=300)\n",
    "# # plt.savefig(figname2,dpi=300)"
   ]
  },
  {
   "cell_type": "code",
   "execution_count": null,
   "metadata": {},
   "outputs": [],
   "source": []
  },
  {
   "cell_type": "code",
   "execution_count": 155,
   "metadata": {},
   "outputs": [],
   "source": [
    "import warnings\n",
    "warnings.filterwarnings(\"ignore\")"
   ]
  },
  {
   "cell_type": "code",
   "execution_count": 156,
   "metadata": {},
   "outputs": [],
   "source": [
    "divs = lambda x, y: np.divide(np.array([x], dtype=float), np.array([y], dtype=float), out=np.full_like(np.array([x], dtype=float), np.nan), where=np.array([y], dtype=float)!=0)\n"
   ]
  },
  {
   "cell_type": "code",
   "execution_count": 157,
   "metadata": {},
   "outputs": [],
   "source": [
    "# rgid=3162"
   ]
  },
  {
   "cell_type": "code",
   "execution_count": 158,
   "metadata": {},
   "outputs": [],
   "source": [
    "# fig, ((ax1,ax2),(ax3,ax4)) = plt.subplots(2,2,figsize=(17,10))\n",
    "# props = dict(boxstyle='round', facecolor='wheat', alpha=0.5)\n",
    "\n",
    "# qmin=0.245;qmax=0.305; mss=30 #For MSR\n",
    "# #qmin=0.1;qmax=0.5; mss=30 #For OHK\n",
    "# ax1.scatter(df_OR.query('U_LOC==\"CA1\" and Rec_GID =='+str(rgid))[quant].values,df_XOR.query('U_LOC==\"CA1\" and Rec_GID =='+str(rgid))[quant].values, \n",
    "#             label='CA1 Neurons', marker='D', facecolors='none',edgecolors='g',s=mss)\n",
    "# ax1.plot([0, qmax], [0, qmax], 'r--', lw=1) ## Diagonal Line\n",
    "\n",
    "# ax1.set_xlim([qmin,qmax]);ax1.set_ylim([qmin,qmax])\n",
    "# ax1.tick_params(axis='both', which='both', bottom=True, top=False, left=True, right=False, labelbottom=False,labelleft=True,rotation=0)\n",
    "# ax1.set_ylabel(quant+r'-$\\mathrm{XOR\\oplus_{i,j}}$');\n",
    "\n",
    "\n",
    "\n",
    "# ax3.scatter(df_OR.query('U_LOC==\"SUB\" and Rec_GID =='+str(rgid))[quant].values,df_XOR.query('U_LOC==\"SUB\" and Rec_GID =='+str(rgid))[quant].values,\n",
    "#             label='SUB Neurons', marker='o', facecolors='none',edgecolors='b',s=mss)\n",
    "# ax3.plot([0, qmax], [0, qmax], 'r--', lw=1) ## Diagonal Line\n",
    "\n",
    "# ax3.set_xlim([qmin,qmax]);ax3.set_ylim([qmin,qmax])\n",
    "# ax3.tick_params(axis='both', which='both', bottom=True, top=False, left=True, right=False, labelbottom=True,labelleft=True,rotation=0)\n",
    "# ax3.set_xlabel(quant+r'- $\\mathrm{OR\\lor_{i,j}}$');\n",
    "# ax3.set_ylabel(quant+r'- $\\mathrm{XOR\\oplus_{i,j}}$');\n",
    "\n",
    "\n",
    "\n",
    "\n",
    "# #MSR\n",
    "# xqmax=0.31;xqmin=0.25;\n",
    "# yqmax=0.32;yqmin=-0.02;\n",
    "\n",
    "# #OHK\n",
    "# # xqmax=0.6;xqmin=0.1;\n",
    "# # yqmax=0.6;yqmin=0.1;\n",
    "\n",
    "# ax2.scatter(list_of_AND.query('loc==\"CA1\" and Rec_GID =='+str(rgid))[\"R_\"+quant+\"_MAX\"].values,list_of_AND.query('loc==\"CA1\"and Rec_GID =='+str(rgid))[quant].values,\n",
    "#         label='ANDed CA1 Neurons', marker='+', color='k',s=30)\n",
    "\n",
    "# ax2.scatter(list_of_OR.query('loc==\"CA1\" and Rec_GID =='+str(rgid))[\"R_\"+quant+\"_MAX\"].values,list_of_OR.query('loc==\"CA1\" and Rec_GID =='+str(rgid))[quant].values,\n",
    "#         label='ORed CA1 Neurons', marker='D', facecolors='none',edgecolors='g',s=50)\n",
    "# ax2.plot([0, yqmax], [0, yqmax], 'r--', lw=1) ## Diagonal Line#\n",
    "\n",
    "\n",
    "# ax2_twin = ax2.twinx()\n",
    "# ax2_twin.tick_params(axis='y', which='both', labelleft=False, labelright=True, colors='g')\n",
    "# ax2.tick_params(axis='both', which='both', bottom=True, top=False, left=True, right=True, labelbottom=False,labelleft=True,rotation=0)\n",
    "\n",
    "# ax2.set_xlim([xqmin,xqmax]);ax2.set_ylim([yqmin,yqmax]);ax2_twin.set_ylim([yqmin,yqmax]);\n",
    "# ax2_twin.set_ylabel(quant+r'- $\\mathrm{AND(\\land_{i,j})} \\&$ $\\mathrm{OR(\\lor_{i,j})}$');\n",
    "# fracC=np.round(divs(list_of_AND.query('loc==\"CA1\" and MSR>R_MSR_MAX and Rec_GID =='+str(rgid)).shape[0],list_of_AND.query('loc==\"CA1\" and Rec_GID =='+str(rgid)).shape[0]),4)\n",
    "# ax2.text(0.05, 0.25,  r'$CA1_{AND} = %.4f$' % (fracC),transform=ax2.transAxes, fontsize=22, verticalalignment='top', bbox=props)\n",
    "\n",
    "\n",
    "\n",
    "# ax4.scatter(list_of_AND.query('loc==\"SUB\" and Rec_GID =='+str(rgid))[\"R_\"+quant+\"_MAX\"].values,list_of_AND.query('loc==\"SUB\" and Rec_GID =='+str(rgid))[quant].values,\n",
    "#         label='ANDed SUB Neurons', marker='x', color='k',s=30)\n",
    "\n",
    "# ax4.scatter(list_of_OR.query('loc==\"SUB\" and Rec_GID =='+str(rgid))[\"R_\"+quant+\"_MAX\"].values,list_of_OR.query('loc==\"SUB\" and Rec_GID =='+str(rgid))[quant].values,\n",
    "#         label='ORed SUB Neurons', marker='o', facecolors='none',edgecolors='b',s=50)\n",
    "# ax4.plot([0, yqmax], [0, yqmax], 'r--', lw=1) ## Diagonal Line#\n",
    "\n",
    "\n",
    "# ax4_twin = ax4.twinx()\n",
    "# ax4_twin.tick_params(axis='y', which='both', labelleft=False, labelright=True, colors='b')\n",
    "# ax4.tick_params(axis='both', which='both', bottom=True, top=False, left=True, right=True, labelbottom=True,labelleft=True,rotation=0)\n",
    "# ax4.set_xlim([xqmin,xqmax]);ax4.set_ylim([yqmin,yqmax]);ax4_twin.set_ylim([yqmin,yqmax]);\n",
    "# ax4.set_xlabel(r'max \\{$\\mathrm{'+quant+r'_i,'+quant+r'_j}\\}$');\n",
    "# ax4_twin.set_ylabel(quant+r'- $\\mathrm{AND(\\land_{i,j})} \\&$ $\\mathrm{OR(\\lor_{i,j})}$');\n",
    "# fracS=np.round(divs(list_of_AND.query('loc==\"SUB\" and MSR>R_MSR_MAX and Rec_GID =='+str(rgid)).shape[0],list_of_AND.query('loc==\"SUB\" and Rec_GID =='+str(rgid)).shape[0]),4)\n",
    "# ax4.text(0.05, 0.25,  r'$SUB_{AND} = %.4f$' % (fracS),transform=ax4.transAxes, fontsize=22, verticalalignment='top', bbox=props)\n",
    "\n",
    "# handles, labels = [], []\n",
    "# for ax in [ax1,ax2, ax2_twin,ax3,ax4,ax4_twin]:  # Add the axes that contain the plots you want in the legend\n",
    "#     for h, l in zip(*ax.get_legend_handles_labels()):\n",
    "#         handles.append(h)\n",
    "#         labels.append(l)\n",
    "\n",
    "# # Create a single legend for the whole figure\n",
    "# fig.legend(handles, labels, loc='upper center', bbox_to_anchor=(0.6, 0.98), ncol=3,fontsize=15)\n",
    "\n",
    "# fig.suptitle(\"Rat \"+str(rat)+\" Rec GID \"+str(rgid), x=0.1, y=.95, horizontalalignment='left', verticalalignment='top', fontsize = 25,color='red')\n",
    "# plt.subplots_adjust(wspace=0.11,hspace=0.06)\n",
    "# #plt.tight_layout()\n",
    "# # plt.savefig(directory+\"Rat_\"+str(rat)+\"Rec_\"+str(rgid)+\".png\",dpi=300)\n",
    "# # plt.close(fig)\n"
   ]
  },
  {
   "cell_type": "code",
   "execution_count": 159,
   "metadata": {},
   "outputs": [
    {
     "name": "stdout",
     "output_type": "stream",
     "text": [
      "Directory already exists!\n"
     ]
    }
   ],
   "source": [
    "import os\n",
    "\n",
    "# Specify the directory path\n",
    "directory = \"../figures/bool/\"+str(rat)+\"/\"\n",
    "\n",
    "# Check if the directory already exists\n",
    "if not os.path.exists(directory):\n",
    "    # Create the directory\n",
    "    os.makedirs(directory)\n",
    "    print(\"Directory created successfully!\")\n",
    "else:\n",
    "    print(\"Directory already exists!\")"
   ]
  },
  {
   "cell_type": "code",
   "execution_count": 160,
   "metadata": {},
   "outputs": [],
   "source": [
    "for rgid in rec_gids:\n",
    "    fig, ((ax1,ax2),(ax3,ax4)) = plt.subplots(2,2,figsize=(17,10))\n",
    "    props = dict(boxstyle='round', facecolor='wheat', alpha=0.5)\n",
    "\n",
    "    qmin=0.245;qmax=0.305; mss=30 #For MSR\n",
    "    #qmin=0.1;qmax=0.5; mss=30 #For OHK\n",
    "    ax1.scatter(df_OR.query('U_LOC==\"CA1\" and Rec_GID =='+str(rgid))[quant].values,df_XOR.query('U_LOC==\"CA1\" and Rec_GID =='+str(rgid))[quant].values, \n",
    "                label='CA1 Neurons', marker='D', facecolors='none',edgecolors='g',s=mss)\n",
    "    ax1.plot([0, qmax], [0, qmax], 'r--', lw=1) ## Diagonal Line\n",
    "\n",
    "    ax1.set_xlim([qmin,qmax]);ax1.set_ylim([qmin,qmax])\n",
    "    ax1.tick_params(axis='both', which='both', bottom=True, top=False, left=True, right=False, labelbottom=False,labelleft=True,rotation=0)\n",
    "    ax1.set_ylabel(quant+r'-$\\mathrm{XOR\\oplus_{i,j}}$');\n",
    "\n",
    "\n",
    "\n",
    "    ax3.scatter(df_OR.query('U_LOC==\"SUB\" and Rec_GID =='+str(rgid))[quant].values,df_XOR.query('U_LOC==\"SUB\" and Rec_GID =='+str(rgid))[quant].values,\n",
    "                label='SUB Neurons', marker='o', facecolors='none',edgecolors='b',s=mss)\n",
    "    ax3.plot([0, qmax], [0, qmax], 'r--', lw=1) ## Diagonal Line\n",
    "\n",
    "    ax3.set_xlim([qmin,qmax]);ax3.set_ylim([qmin,qmax])\n",
    "    ax3.tick_params(axis='both', which='both', bottom=True, top=False, left=True, right=False, labelbottom=True,labelleft=True,rotation=0)\n",
    "    ax3.set_xlabel(quant+r'- $\\mathrm{OR\\lor_{i,j}}$');\n",
    "    ax3.set_ylabel(quant+r'- $\\mathrm{XOR\\oplus_{i,j}}$');\n",
    "\n",
    "\n",
    "\n",
    "\n",
    "    #MSR\n",
    "    xqmax=0.31;xqmin=0.25;\n",
    "    yqmax=0.32;yqmin=-0.02;\n",
    "\n",
    "    #OHK\n",
    "    # xqmax=0.6;xqmin=0.1;\n",
    "    # yqmax=0.6;yqmin=0.1;\n",
    "\n",
    "    ax2.scatter(list_of_AND.query('loc==\"CA1\" and Rec_GID =='+str(rgid))[\"R_\"+quant+\"_MAX\"].values,list_of_AND.query('loc==\"CA1\"and Rec_GID =='+str(rgid))[quant].values,\n",
    "            label='ANDed CA1 Neurons', marker='+', color='k',s=30)\n",
    "\n",
    "    ax2.scatter(list_of_OR.query('loc==\"CA1\" and Rec_GID =='+str(rgid))[\"R_\"+quant+\"_MAX\"].values,list_of_OR.query('loc==\"CA1\" and Rec_GID =='+str(rgid))[quant].values,\n",
    "            label='ORed CA1 Neurons', marker='D', facecolors='none',edgecolors='g',s=50)\n",
    "    ax2.plot([0, yqmax], [0, yqmax], 'r--', lw=1) ## Diagonal Line#\n",
    "\n",
    "\n",
    "    ax2_twin = ax2.twinx()\n",
    "    ax2_twin.tick_params(axis='y', which='both', labelleft=False, labelright=True, colors='g')\n",
    "    ax2.tick_params(axis='both', which='both', bottom=True, top=False, left=True, right=True, labelbottom=False,labelleft=True,rotation=0)\n",
    "\n",
    "    ax2.set_xlim([xqmin,xqmax]);ax2.set_ylim([yqmin,yqmax]);ax2_twin.set_ylim([yqmin,yqmax]);\n",
    "    ax2_twin.set_ylabel(quant+r'- $\\mathrm{AND(\\land_{i,j})} \\&$ $\\mathrm{OR(\\lor_{i,j})}$');\n",
    "\n",
    "    fracC=np.round(divs(list_of_AND.query('loc==\"CA1\" and MSR>R_MSR_MAX and Rec_GID =='+str(rgid)).shape[0],list_of_AND.query('loc==\"CA1\" and Rec_GID =='+str(rgid)).shape[0]),4)\n",
    "    ax2.text(0.05, 0.25,  r'$CA1_{AND} = %.4f$' % (fracC),transform=ax2.transAxes, fontsize=22, verticalalignment='top', bbox=props)\n",
    "\n",
    "\n",
    "\n",
    "\n",
    "    ax4.scatter(list_of_AND.query('loc==\"SUB\" and Rec_GID =='+str(rgid))[\"R_\"+quant+\"_MAX\"].values,list_of_AND.query('loc==\"SUB\" and Rec_GID =='+str(rgid))[quant].values,\n",
    "            label='ANDed SUB Neurons', marker='x', color='k',s=30)\n",
    "\n",
    "    ax4.scatter(list_of_OR.query('loc==\"SUB\" and Rec_GID =='+str(rgid))[\"R_\"+quant+\"_MAX\"].values,list_of_OR.query('loc==\"SUB\" and Rec_GID =='+str(rgid))[quant].values,\n",
    "            label='ORed SUB Neurons', marker='o', facecolors='none',edgecolors='b',s=50)\n",
    "    ax4.plot([0, yqmax], [0, yqmax], 'r--', lw=1) ## Diagonal Line#\n",
    "\n",
    "\n",
    "    ax4_twin = ax4.twinx()\n",
    "    ax4_twin.tick_params(axis='y', which='both', labelleft=False, labelright=True, colors='b')\n",
    "    ax4.tick_params(axis='both', which='both', bottom=True, top=False, left=True, right=True, labelbottom=True,labelleft=True,rotation=0)\n",
    "    ax4.set_xlim([xqmin,xqmax]);ax4.set_ylim([yqmin,yqmax]);ax4_twin.set_ylim([yqmin,yqmax]);\n",
    "    ax4.set_xlabel(r'max \\{$\\mathrm{'+quant+r'_i,'+quant+r'_j}\\}$');\n",
    "    ax4_twin.set_ylabel(quant+r'- $\\mathrm{AND(\\land_{i,j})} \\&$ $\\mathrm{OR(\\lor_{i,j})}$');\n",
    "\n",
    "    fracS=np.round(divs(list_of_AND.query('loc==\"SUB\" and MSR>R_MSR_MAX and Rec_GID =='+str(rgid)).shape[0],list_of_AND.query('loc==\"SUB\" and Rec_GID =='+str(rgid)).shape[0]),4)\n",
    "    ax4.text(0.05, 0.25,  r'$SUB_{AND} = %.4f$' % (fracS),transform=ax4.transAxes, fontsize=22, verticalalignment='top', bbox=props)\n",
    " \n",
    "    handles, labels = [], []\n",
    "    for ax in [ax1,ax2, ax2_twin,ax3,ax4,ax4_twin]:  # Add the axes that contain the plots you want in the legend\n",
    "        for h, l in zip(*ax.get_legend_handles_labels()):\n",
    "            handles.append(h)\n",
    "            labels.append(l)\n",
    "\n",
    "    # Create a single legend for the whole figure\n",
    "    fig.legend(handles, labels, loc='upper center', bbox_to_anchor=(0.6, 0.98), ncol=3,fontsize=15)\n",
    "\n",
    "    fig.suptitle(\"Rat \"+str(rat)+\" Rec GID \"+str(rgid), x=0.1, y=.95, horizontalalignment='left', verticalalignment='top', fontsize = 25,color='red')\n",
    "    plt.subplots_adjust(wspace=0.11,hspace=0.06)\n",
    "    #plt.tight_layout()\n",
    "    plt.savefig(directory+\"Rat_\"+str(rat)+\"Rec_\"+str(rgid)+\".png\",dpi=300)\n",
    "    plt.close(fig)\n"
   ]
  },
  {
   "cell_type": "code",
   "execution_count": null,
   "metadata": {},
   "outputs": [],
   "source": []
  },
  {
   "cell_type": "markdown",
   "metadata": {},
   "source": [
    "# Single Plots"
   ]
  },
  {
   "cell_type": "code",
   "execution_count": 161,
   "metadata": {},
   "outputs": [
    {
     "data": {
      "text/plain": [
       "(0.25, 0.3)"
      ]
     },
     "execution_count": 161,
     "metadata": {},
     "output_type": "execute_result"
    },
    {
     "data": {
      "image/png": "[encoded data removed]",
      "text/plain": [
       "<Figure size 500x600 with 2 Axes>"
      ]
     },
     "metadata": {},
     "output_type": "display_data"
    }
   ],
   "source": [
    "\n",
    "fig, (ax1,ax2) = plt.subplots(2,1,figsize=(5, 6),sharex=True,sharey=True)\n",
    "\n",
    "quant='MSR'\n",
    "quant_lab='MSR (a.u.)'\n",
    "qMAX=0.3\n",
    "qMIN=0.25\n",
    "#figname='../figures/Fig2A.png'\n",
    "#figname2='../../../../Apps/Overleaf/Project_Relevance_of_CA1_SUB/img/Fig2A.png'\n",
    "\n",
    "\n",
    "\n",
    "ax1.plot(df_OR.query('U_LOC==\"CA1\"')[quant].values,df_XOR.query('U_LOC==\"CA1\"')[quant].values,'g*')\n",
    "ax1.plot([0, qMAX], [0, qMAX], 'r--', lw=1) ## Diagonal Line\n",
    "ax1.set_xlim([qMIN,qMAX]);ax1.set_ylim([qMIN,qMAX])\n",
    "\n",
    "ax2.plot(df_OR.query('U_LOC==\"SUB\"')[quant].values,df_XOR.query('U_LOC==\"SUB\"')[quant].values,'g*')\n",
    "ax2.plot([0, qMAX], [0, qMAX], 'r--', lw=1) ## Diagonal Line\n",
    "ax2.set_xlim([qMIN,qMAX]);ax2.set_ylim([qMIN,qMAX])"
   ]
  },
  {
   "cell_type": "code",
   "execution_count": 162,
   "metadata": {},
   "outputs": [
    {
     "data": {
      "text/plain": [
       "[<matplotlib.lines.Line2D at 0x7f9892a7c530>]"
      ]
     },
     "execution_count": 162,
     "metadata": {},
     "output_type": "execute_result"
    },
    {
     "data": {
      "image/png": "[encoded data removed]",
      "text/plain": [
       "<Figure size 500x600 with 2 Axes>"
      ]
     },
     "metadata": {},
     "output_type": "display_data"
    }
   ],
   "source": [
    "\n",
    "fig, (ax1,ax2) = plt.subplots(2,1,figsize=(5, 6),sharex=True,sharey=True)\n",
    "\n",
    "quant='MSR'\n",
    "quant_lab='MSR (a.u.)'\n",
    "qMAX=0.3\n",
    "qMIN=0.25\n",
    "#figname='../figures/Fig2A.png'\n",
    "#figname2='../../../../Apps/Overleaf/Project_Relevance_of_CA1_SUB/img/Fig2A.png'\n",
    "\n",
    "\n",
    "\n",
    "ax1.plot(list_of_AND.query('loc==\"CA1\"')[\"R_\"+quant+\"_MAX\"].values,list_of_AND.query('loc==\"CA1\"')[quant].values,'r*')\n",
    "ax1.plot(list_of_OR.query('loc==\"CA1\"')[\"R_\"+quant+\"_MAX\"].values,list_of_OR.query('loc==\"CA1\"')[quant].values,'kp')\n",
    "#ax1.plot([0, qMAX], [0, qMAX], 'r--', lw=1) ## Diagonal Line#\n",
    "#ax1.set_xlim([qMIN,qMAX]);ax1.set_ylim([qMIN,qMAX])\n",
    "\n",
    "ax2.plot(list_of_AND.query('loc==\"SUB\"')[\"R_\"+quant+\"_MAX\"].values,list_of_AND.query('loc==\"SUB\"')[quant].values,'r*')\n",
    "ax2.plot(list_of_OR.query('loc==\"SUB\"')[\"R_\"+quant+\"_MAX\"].values,list_of_OR.query('loc==\"SUB\"')[quant].values,'kD')"
   ]
  },
  {
   "cell_type": "code",
   "execution_count": null,
   "metadata": {},
   "outputs": [],
   "source": []
  },
  {
   "cell_type": "code",
   "execution_count": null,
   "metadata": {},
   "outputs": [],
   "source": []
  }
 ],
 "metadata": {
  "kernelspec": {
   "display_name": "work",
   "language": "python",
   "name": "python3"
  },
  "language_info": {
   "codemirror_mode": {
    "name": "ipython",
    "version": 3
   },
   "file_extension": ".py",
   "mimetype": "text/x-python",
   "name": "python",
   "nbconvert_exporter": "python",
   "pygments_lexer": "ipython3",
   "version": "3.11.7"
  }
 },
 "nbformat": 4,
 "nbformat_minor": 2
}
