{
 "cells": [
  {
   "cell_type": "code",
   "execution_count": 1,
   "metadata": {},
   "outputs": [],
   "source": [
    "import sys\n",
    "import time\n",
    "sys.path.append('../lib')\n",
    "from func_MSR import *\n",
    "import pandas as pd"
   ]
  },
  {
   "cell_type": "code",
   "execution_count": 2,
   "metadata": {},
   "outputs": [],
   "source": [
    "import numpy as np\n",
    "from numpy.random import Generator, PCG64 ,MT19937, PCG64DXSM\n",
    "from scipy.stats import truncnorm\n",
    "import multiprocessing as mp"
   ]
  },
  {
   "cell_type": "code",
   "execution_count": 3,
   "metadata": {},
   "outputs": [],
   "source": [
    "import matplotlib.pyplot as plt"
   ]
  },
  {
   "cell_type": "code",
   "execution_count": 4,
   "metadata": {},
   "outputs": [
    {
     "data": {
      "text/plain": [
       "Index(['RAT_ID', 'NeuID', 'N_DID', 'N_GID', 'LOC', 'STAT', 'rSCC', 'bScore',\n",
       "       'hdScore', 'u_spiketime', 'task', 'U_GID', 'time_range', 'duration',\n",
       "       'REC_Date', 'X', 'Y', 't', 'HD', 'MDirection', 'Speed', 'pmap'],\n",
       "      dtype='object')"
      ]
     },
     "execution_count": 4,
     "metadata": {},
     "output_type": "execute_result"
    }
   ],
   "source": [
    "path=\"../data_extract/\"\n",
    "ratid=21012\n",
    "chunksize=20 #in minutes\n",
    "rats=[20382,24101,21012,22295,20630,22098,23783,24116]\n",
    "df=pd.read_json(path+\"Rat_\"+str(ratid)+\"_data_extracted.json\");\n",
    "df.columns"
   ]
  },
  {
   "cell_type": "markdown",
   "metadata": {},
   "source": [
    "D.animals(3).sessions(18) contains- id: 104\\\n",
    "\n",
    "D.animals(3).sessions(18).userData.containedNeurons.ids contains: 36 neuron recordings (units)\\\n",
    "D.animals(3).recordings(18).sessions.userData.containedNeurons.ids\\\n",
    "\n",
    "D.animals(3).sessions(18).userData.containedNeurons.locs contains: 20 SUBs and 16 CA1s\\\n",
    "D.animals(3).recordings(18).sessions.userData.containedNeurons.locs"
   ]
  },
  {
   "cell_type": "code",
   "execution_count": 5,
   "metadata": {},
   "outputs": [],
   "source": [
    "neuron_Dids=[99,105,124,130,132,137,143,148,154,161,165,169,171,176,179,182,186,202,204,207,209,211,213,214,215,219,225,231,239,243,247,251,253,256,259,262]\n",
    "\n",
    "unit_Gids=[4893,4942,5070,5122,5164,5262,5317,5374,5430,5486,5525,5562,5574,5650,5691,5735,5780,5941,5954,5967,5980,5990,6002,6010,6018,6041,6082,6122,6193,6240,6275,6295,6305,6327,6339,6353]\n"
   ]
  },
  {
   "cell_type": "code",
   "execution_count": 6,
   "metadata": {},
   "outputs": [],
   "source": [
    "# Function to find the indices\n",
    "def find_indices(df, column, items):\n",
    "    results = []\n",
    "    for item in items:\n",
    "        for row_idx, row in df.iterrows():\n",
    "            if item in row[column]:\n",
    "                results.append((row_idx, row[column].index(item)))\n",
    "    return results"
   ]
  },
  {
   "cell_type": "code",
   "execution_count": 7,
   "metadata": {},
   "outputs": [],
   "source": [
    "#df[df['N_DID'].isin(neuron_Dids)]['U_GID']\n",
    "NuUnis = find_indices(df[df['N_DID'].isin(neuron_Dids)], 'U_GID', unit_Gids)\n",
    "#len(NuUnis)"
   ]
  },
  {
   "cell_type": "code",
   "execution_count": 8,
   "metadata": {},
   "outputs": [
    {
     "name": "stdout",
     "output_type": "stream",
     "text": [
      "5070 1058.725693503256\n"
     ]
    }
   ],
   "source": [
    "## Checking the duration of the recordings\n",
    "nu,uni=NuUnis[2];\n",
    "print(df.iloc[nu].U_GID[uni],df.iloc[nu].duration[uni])"
   ]
  },
  {
   "cell_type": "code",
   "execution_count": 9,
   "metadata": {},
   "outputs": [
    {
     "name": "stdout",
     "output_type": "stream",
     "text": [
      "(3045, np.float64(0.275639691638745), np.float64(0.2345425242478744), np.float64(0.8758157725390185), np.float64(1.110358296786893), np.float64(0.5524100857602311), np.float64(0.4540778641159537), np.float64(0.5352867424147735), np.float64(13.52137460595856))\n",
      "(3045, np.float64(0.2756547029473171), np.float64(0.24824343868488202), np.float64(0.8628079098876413), np.float64(1.1110513485725233), np.float64(0.6488886731980871), np.float64(0.4520627130667849), np.float64(0.5328343111828758), np.float64(13.784576676401947))\n"
     ]
    }
   ],
   "source": [
    "## 20 min chunk test\n",
    "print(MSR(df.iloc[nu].u_spiketime[uni],df.iloc[nu].time_range[uni][0],df.iloc[nu].time_range[uni][-1],200))\n",
    "#for The spike train of length = chunksize\n",
    "print(MSR(df.iloc[nu].u_spiketime[uni],df.iloc[nu].time_range[uni][0],df.iloc[nu].time_range[uni][0]+(chunksize*60),200))"
   ]
  },
  {
   "cell_type": "code",
   "execution_count": 10,
   "metadata": {},
   "outputs": [],
   "source": [
    "def truncated_normal_toss(mu, jitter, M, no_of_samples, seed=1244):\n",
    "    # Initialize the random number generator\n",
    "    rng = Generator(PCG64DXSM(seed=seed))\n",
    "    # Calculate the lower and upper bounds for the truncation\n",
    "    sigma=jitter/(2*np.pi)\n",
    "    lower, upper = (-jitter - mu) / sigma, (jitter - mu) / sigma\n",
    "    truncated_normal = truncnorm(lower, upper, loc=mu, scale=sigma)\n",
    "    # Generate the samples\n",
    "    samples = truncated_normal.rvs(size=(M, no_of_samples), random_state=rng)\n",
    "    return samples"
   ]
  },
  {
   "cell_type": "code",
   "execution_count": 11,
   "metadata": {},
   "outputs": [],
   "source": [
    "jitter=5/1000 #5ms\n",
    "M=len(df.iloc[nu].u_spiketime[uni])\n",
    "no_of_samples = 5000\n",
    "mu=0\n",
    "samples = truncated_normal_toss(mu, jitter, M, no_of_samples)\n",
    "#plt.hist(samples[:,np.random.randint(0,no_of_samples)],bins=50)"
   ]
  },
  {
   "cell_type": "code",
   "execution_count": 12,
   "metadata": {},
   "outputs": [],
   "source": [
    "def worker_function(idx):\n",
    "    jtdat=df.iloc[nu].u_spiketime[uni] + samples[:,idx]\n",
    "    return MSR(jtdat,df.iloc[nu].time_range[uni][0],df.iloc[nu].time_range[uni][0]+(chunksize*60),200)"
   ]
  },
  {
   "cell_type": "code",
   "execution_count": 13,
   "metadata": {},
   "outputs": [],
   "source": [
    "params = range(no_of_samples)  # Example iterable\n",
    "    \n",
    "with mp.Pool(4) as pool:\n",
    "    async_results = []\n",
    "    \n",
    "    for param in params:\n",
    "        async_result = pool.apply_async(worker_function, (param,))\n",
    "        async_results.append(async_result)\n",
    "    \n",
    "    # Retrieve results\n",
    "    results = [ar.get() for ar in async_results]"
   ]
  },
  {
   "cell_type": "code",
   "execution_count": 14,
   "metadata": {},
   "outputs": [
    {
     "data": {
      "text/plain": [
       "(5000, 9)"
      ]
     },
     "execution_count": 14,
     "metadata": {},
     "output_type": "execute_result"
    }
   ],
   "source": [
    "np.shape(results)"
   ]
  },
  {
   "cell_type": "code",
   "execution_count": null,
   "metadata": {},
   "outputs": [],
   "source": []
  }
 ],
 "metadata": {
  "kernelspec": {
   "display_name": "work",
   "language": "python",
   "name": "python3"
  },
  "language_info": {
   "codemirror_mode": {
    "name": "ipython",
    "version": 3
   },
   "file_extension": ".py",
   "mimetype": "text/x-python",
   "name": "python",
   "nbconvert_exporter": "python",
   "pygments_lexer": "ipython3",
   "version": "3.12.4"
  }
 },
 "nbformat": 4,
 "nbformat_minor": 2
}
