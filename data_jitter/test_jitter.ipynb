{
 "cells": [
  {
   "cell_type": "code",
   "execution_count": 1,
   "metadata": {},
   "outputs": [],
   "source": [
    "import sys\n",
    "import time\n",
    "sys.path.append('../lib')\n",
    "from func_MSR import *\n",
    "import pandas as pd"
   ]
  },
  {
   "cell_type": "code",
   "execution_count": 2,
   "metadata": {},
   "outputs": [],
   "source": [
    "import numpy as np\n",
    "from numpy.random import Generator, PCG64 ,MT19937, PCG64DXSM\n",
    "from scipy.stats import truncnorm\n",
    "import multiprocessing as mp"
   ]
  },
  {
   "cell_type": "code",
   "execution_count": 3,
   "metadata": {},
   "outputs": [],
   "source": [
    "import matplotlib.pyplot as plt"
   ]
  },
  {
   "cell_type": "code",
   "execution_count": 4,
   "metadata": {},
   "outputs": [
    {
     "data": {
      "text/plain": [
       "Index(['RAT_ID', 'NeuID', 'N_DID', 'N_GID', 'LOC', 'STAT', 'rSCC', 'bScore',\n",
       "       'hdScore', 'u_spiketime', 'task', 'U_GID', 'time_range', 'duration',\n",
       "       'REC_Date', 'X', 'Y', 't', 'HD', 'MDirection', 'Speed', 'pmap'],\n",
       "      dtype='object')"
      ]
     },
     "execution_count": 4,
     "metadata": {},
     "output_type": "execute_result"
    }
   ],
   "source": [
    "path=\"../data_extract/\"\n",
    "ratid=21012\n",
    "chunksize=20 #in minutes\n",
    "rats=[20382,24101,21012,22295,20630,22098,23783,24116]\n",
    "df=pd.read_json(path+\"Rat_\"+str(ratid)+\"_data_extracted.json\");\n",
    "df.columns"
   ]
  },
  {
   "cell_type": "markdown",
   "metadata": {},
   "source": [
    "D.animals(3).sessions(18) contains- id: 104\n",
    "\n",
    "D.animals(3).sessions(18).userData.containedNeurons.ids contains: 36 neuron recordings (units)\\\n",
    "D.animals(3).recordings(18).sessions.userData.containedNeurons.ids\n",
    "\n",
    "D.animals(3).sessions(18).userData.containedNeurons.locs contains: 20 SUBs and 16 CA1s\\\n",
    "D.animals(3).recordings(18).sessions.userData.containedNeurons.locs"
   ]
  },
  {
   "cell_type": "code",
   "execution_count": 5,
   "metadata": {},
   "outputs": [],
   "source": [
    "neuron_Dids=[99,105,124,130,132,137,143,148,154,161,165,169,171,176,179,182,186,202,204,207,209,211,213,214,215,219,225,231,239,243,247,251,253,256,259,262]\n",
    "\n",
    "unit_Gids=[4893,4942,5070,5122,5164,5262,5317,5374,5430,5486,5525,5562,5574,5650,5691,5735,5780,5941,5954,5967,5980,5990,6002,6010,6018,6041,6082,6122,6193,6240,6275,6295,6305,6327,6339,6353]\n"
   ]
  },
  {
   "cell_type": "code",
   "execution_count": 6,
   "metadata": {},
   "outputs": [],
   "source": [
    "# Function to find the indices\n",
    "def find_indices(df, column, items):\n",
    "    results = []\n",
    "    for item in items:\n",
    "        for row_idx, row in df.iterrows():\n",
    "            if item in row[column]:\n",
    "                results.append((row_idx, row[column].index(item),item))\n",
    "    return results"
   ]
  },
  {
   "cell_type": "code",
   "execution_count": 7,
   "metadata": {},
   "outputs": [],
   "source": [
    "#df[df['N_DID'].isin(neuron_Dids)]['U_GID']\n",
    "NuUnis = find_indices(df[df['N_DID'].isin(neuron_Dids)], 'U_GID', unit_Gids)\n",
    "#len(NuUnis)"
   ]
  },
  {
   "cell_type": "code",
   "execution_count": 8,
   "metadata": {},
   "outputs": [],
   "source": [
    "def truncated_normal_toss(mu, jitter, M, no_of_samples, seed=1244):\n",
    "    # Initialize the random number generator\n",
    "    #rng = Generator(PCG64DXSM(seed=seed))\n",
    "    rng = Generator(PCG64DXSM())\n",
    "    # Calculate the lower and upper bounds for the truncation\n",
    "    sigma=jitter/(2*np.pi)\n",
    "    lower, upper = (-jitter - mu) / sigma, (jitter - mu) / sigma\n",
    "    truncated_normal = truncnorm(lower, upper, loc=mu, scale=sigma)\n",
    "    # Generate the samples\n",
    "    samples = truncated_normal.rvs(size=(M, no_of_samples), random_state=rng)\n",
    "    return samples\n",
    "def worker_function(idx):\n",
    "    jtdat=df.iloc[nu].u_spiketime[uni] + samples[:,idx]\n",
    "    return MSR(jtdat,df.iloc[nu].time_range[uni][0],df.iloc[nu].time_range[uni][0]+(chunksize*60),200)"
   ]
  },
  {
   "cell_type": "code",
   "execution_count": 9,
   "metadata": {},
   "outputs": [],
   "source": [
    "#5 10 50 100 500 1000 milisecs\n",
    "jitter=5/1000 #5ms\n",
    "no_of_samples = 5000"
   ]
  },
  {
   "cell_type": "code",
   "execution_count": 10,
   "metadata": {},
   "outputs": [
    {
     "name": "stdout",
     "output_type": "stream",
     "text": [
      "Calculating for neuron: 6, unit: 3, U_GID: 4893\n",
      "Calculating for neuron: 12, unit: 0, U_GID: 4942\n",
      "Calculating for neuron: 31, unit: 2, U_GID: 5070\n",
      "Calculating for neuron: 37, unit: 2, U_GID: 5122\n",
      "Calculating for neuron: 39, unit: 2, U_GID: 5164\n",
      "Calculating for neuron: 44, unit: 2, U_GID: 5262\n",
      "Calculating for neuron: 50, unit: 2, U_GID: 5317\n",
      "Calculating for neuron: 55, unit: 2, U_GID: 5374\n",
      "Calculating for neuron: 61, unit: 2, U_GID: 5430\n",
      "Calculating for neuron: 68, unit: 2, U_GID: 5486\n",
      "Calculating for neuron: 72, unit: 2, U_GID: 5525\n",
      "Calculating for neuron: 76, unit: 0, U_GID: 5562\n",
      "Calculating for neuron: 78, unit: 2, U_GID: 5574\n",
      "Calculating for neuron: 83, unit: 2, U_GID: 5650\n",
      "Calculating for neuron: 86, unit: 2, U_GID: 5691\n",
      "Calculating for neuron: 89, unit: 2, U_GID: 5735\n",
      "Calculating for neuron: 93, unit: 2, U_GID: 5780\n",
      "Calculating for neuron: 109, unit: 2, U_GID: 5941\n",
      "Calculating for neuron: 111, unit: 2, U_GID: 5954\n",
      "Calculating for neuron: 114, unit: 1, U_GID: 5967\n",
      "Calculating for neuron: 116, unit: 3, U_GID: 5980\n",
      "Calculating for neuron: 118, unit: 0, U_GID: 5990\n",
      "Calculating for neuron: 120, unit: 2, U_GID: 6002\n",
      "Calculating for neuron: 121, unit: 2, U_GID: 6010\n",
      "Calculating for neuron: 122, unit: 2, U_GID: 6018\n",
      "Calculating for neuron: 126, unit: 2, U_GID: 6041\n",
      "Calculating for neuron: 132, unit: 4, U_GID: 6082\n",
      "Calculating for neuron: 138, unit: 1, U_GID: 6122\n",
      "Calculating for neuron: 146, unit: 2, U_GID: 6193\n",
      "Calculating for neuron: 150, unit: 2, U_GID: 6240\n",
      "Calculating for neuron: 154, unit: 2, U_GID: 6275\n",
      "Calculating for neuron: 158, unit: 2, U_GID: 6295\n",
      "Calculating for neuron: 160, unit: 1, U_GID: 6305\n",
      "Calculating for neuron: 163, unit: 7, U_GID: 6327\n",
      "Calculating for neuron: 166, unit: 6, U_GID: 6339\n",
      "Calculating for neuron: 169, unit: 5, U_GID: 6353\n"
     ]
    }
   ],
   "source": [
    "# datas=[]\n",
    "# for (nu,uni,ugids) in NuUnis:\n",
    "#     assert df.iloc[nu].U_GID[uni]==ugids, \"UIDs don't match\"\n",
    "#     loc=df.iloc[nu].LOC[1]\n",
    "#     print(f\"Calculating for %s neuron: %d, unit: %d, U_GID: %d\" % (loc,nu,uni,ugids))\n",
    "#     nj_results=np.array(MSR(df.iloc[nu].u_spiketime[uni],df.iloc[nu].time_range[uni][0],df.iloc[nu].time_range[uni][0]+(chunksize*60),200))\n",
    "#     # Output 9 dims\n",
    "#     #no-of-spikes->len(datas),msr,OHKs,OHSs,maxHkpHs,Tohks,MHKs,MHSs,Tmhks\n",
    "#     #samples from the truncated normal distribution for the jittering\n",
    "#     samples = truncated_normal_toss(0, jitter, int(nj_results[0]), no_of_samples)\n",
    "#     #Create pool of workers for jittering MSR calculation\n",
    "#     pool = mp.Pool(14) \n",
    "#     future_res = [pool.apply_async(worker_function, (param,)) for param in range(no_of_samples)]\n",
    "#     res = [f.get() for f in future_res]\n",
    "#     # Close the pool and wait for the work to finish\n",
    "#     pool.close()\n",
    "#     pool.join()\n",
    "\n",
    "#     nspikes,msr,OHKs,OHSs,maxHkpHs,Tohk,MHKs,MHSs,Tmhks=nj_results\n",
    "\n",
    "#     #Calculating the displacement of the jittered MSR and other ResRel Quantities against unjittered MSR and other ResRel Quantities\n",
    "#     displacement=np.abs(res - nj_results) \n",
    "#     _,mu_msrDSP,mu_OHKsDSP,mu_OHSsDSP,mu_maxHkpHsDSP,mu_TohkDSP,mu_MHKsDSP,mu_MHSsDSP,mu_TmhksDSP=np.mean(displacement,axis=0)\n",
    "\n",
    "#     row = {\n",
    "#         \"ratid\": ratid,\n",
    "#         \"nu_index\": nu,\n",
    "#         \"unit_index\": uni,\n",
    "#         \"U_GID\": ugids,\n",
    "#         \"LOC\": loc,\n",
    "#         \"nspikes\": nspikes,\n",
    "#         \"msr\": msr,\n",
    "#         \"OHKs\": OHKs,\n",
    "#         \"OHSs\": OHSs,\n",
    "#         \"maxHkpHs\": maxHkpHs,\n",
    "#         \"Tohk\": Tohk,\n",
    "#         \"MHKs\": MHKs,\n",
    "#         \"MHSs\": MHSs,\n",
    "#         \"Tmhks\": Tmhks,\n",
    "#         \"mean_msrDSP\": mu_msrDSP,\n",
    "#         \"mean_OHKsDSP\": mu_OHKsDSP,\n",
    "#         \"mean_OHSsDSP\": mu_OHSsDSP,\n",
    "#         \"mean_maxHkpHsDSP\": mu_maxHkpHsDSP,\n",
    "#         \"mean_TohkDSP\": mu_TohkDSP,\n",
    "#         \"mean_MHKsDSP\": mu_MHKsDSP,\n",
    "#         \"mean_MHSsDSP\": mu_MHSsDSP,\n",
    "#         \"mean_TmhksDSP\": mu_TmhksDSP\n",
    "#     }\n",
    "#     datas.append(row)\n",
    "\n",
    "# jitter_data=pd.DataFrame(datas)\n",
    "# jitter_data.to_json(\"Rat_\"+str(ratid)+\"_Rec_\"+str(18)+\"_jitter_\"+str(int(jitter*1000))+\"ms_data.json\",orient=\"records\")\n",
    "   "
   ]
  },
  {
   "cell_type": "markdown",
   "metadata": {},
   "source": [
    "## Single Recording"
   ]
  },
  {
   "cell_type": "code",
   "execution_count": 15,
   "metadata": {},
   "outputs": [
    {
     "name": "stdout",
     "output_type": "stream",
     "text": [
      "5070 1058.725693503256 SUB 5070\n"
     ]
    }
   ],
   "source": [
    "## Checking the duration of the recordings\n",
    "nu,uni,ugids=NuUnis[2];\n",
    "print(df.iloc[nu].U_GID[uni],df.iloc[nu].duration[uni],df.iloc[nu].LOC[1],ugids)"
   ]
  },
  {
   "cell_type": "code",
   "execution_count": 16,
   "metadata": {},
   "outputs": [
    {
     "name": "stdout",
     "output_type": "stream",
     "text": [
      "(3045, np.float64(0.275639691638745), np.float64(0.2345425242478744), np.float64(0.8758157725390185), np.float64(1.110358296786893), np.float64(0.5524100857602311), np.float64(0.4540778641159537), np.float64(0.5352867424147735), np.float64(13.52137460595856))\n",
      "(3045, np.float64(0.2756547029473171), np.float64(0.24824343868488202), np.float64(0.8628079098876413), np.float64(1.1110513485725233), np.float64(0.6488886731980871), np.float64(0.4520627130667849), np.float64(0.5328343111828758), np.float64(13.784576676401947))\n"
     ]
    }
   ],
   "source": [
    "## 20 min chunk test\n",
    "print(MSR(df.iloc[nu].u_spiketime[uni],df.iloc[nu].time_range[uni][0],df.iloc[nu].time_range[uni][-1],200))\n",
    "#for The spike train of length = chunksize\n",
    "print(MSR(df.iloc[nu].u_spiketime[uni],df.iloc[nu].time_range[uni][0],df.iloc[nu].time_range[uni][0]+(chunksize*60),200))"
   ]
  },
  {
   "cell_type": "code",
   "execution_count": 17,
   "metadata": {},
   "outputs": [],
   "source": [
    "def truncated_normal_toss(mu, jitter, M, no_of_samples, seed=1244):\n",
    "    # Initialize the random number generator\n",
    "    #rng = Generator(PCG64DXSM(seed=seed))\n",
    "    rng = Generator(PCG64DXSM())\n",
    "    # Calculate the lower and upper bounds for the truncation\n",
    "    sigma=jitter/(2*np.pi)\n",
    "    lower, upper = (-jitter - mu) / sigma, (jitter - mu) / sigma\n",
    "    truncated_normal = truncnorm(lower, upper, loc=mu, scale=sigma)\n",
    "    # Generate the samples\n",
    "    samples = truncated_normal.rvs(size=(M, no_of_samples), random_state=rng)\n",
    "    return samples"
   ]
  },
  {
   "cell_type": "code",
   "execution_count": 18,
   "metadata": {},
   "outputs": [],
   "source": [
    "jitter=5/1000 #5ms\n",
    "M=len(df.iloc[nu].u_spiketime[uni])\n",
    "no_of_samples = 5000\n",
    "mu=0\n",
    "samples = truncated_normal_toss(mu, jitter, M, no_of_samples)\n",
    "#plt.hist(samples[:,np.random.randint(0,no_of_samples)],bins=50)"
   ]
  },
  {
   "cell_type": "code",
   "execution_count": 19,
   "metadata": {},
   "outputs": [],
   "source": [
    "def worker_function(idx):\n",
    "    jtdat=df.iloc[nu].u_spiketime[uni] + samples[:,idx]\n",
    "    return MSR(jtdat,df.iloc[nu].time_range[uni][0],df.iloc[nu].time_range[uni][0]+(chunksize*60),200)"
   ]
  },
  {
   "cell_type": "code",
   "execution_count": 20,
   "metadata": {},
   "outputs": [],
   "source": [
    "nj_results=np.array(MSR(df.iloc[nu].u_spiketime[uni],df.iloc[nu].time_range[uni][0],df.iloc[nu].time_range[uni][0]+(chunksize*60),200))\n",
    "# Output 9 dims\n",
    "#no-of-spikes->len(datas),msr,OHKs,OHSs,maxHkpHs,Tohks,MHKs,MHSs,Tmhks"
   ]
  },
  {
   "cell_type": "code",
   "execution_count": 21,
   "metadata": {},
   "outputs": [
    {
     "data": {
      "text/plain": [
       "(array([  1.,   1.,   0.,   1.,   2.,   4.,   2.,   7.,   5.,   5.,  11.,\n",
       "         14.,  10.,  20.,  22.,  28.,  37.,  36.,  48.,  39.,  63.,  60.,\n",
       "         66.,  95.,  83.,  97., 101., 126.,  97., 141., 129., 158., 171.,\n",
       "        161., 173., 167., 192., 195., 186., 201., 172., 188., 181., 158.,\n",
       "        155., 143., 144., 118., 120., 103.,  92., 100.,  74.,  58.,  60.,\n",
       "         38.,  31.,  27.,  22.,   9.,  17.,  12.,   7.,   4.,   5.,   2.,\n",
       "          2.,   2.,   0.,   1.]),\n",
       " array([0.27543778, 0.27544279, 0.27544781, 0.27545282, 0.27545783,\n",
       "        0.27546284, 0.27546785, 0.27547286, 0.27547787, 0.27548288,\n",
       "        0.27548789, 0.2754929 , 0.27549791, 0.27550292, 0.27550793,\n",
       "        0.27551294, 0.27551795, 0.27552297, 0.27552798, 0.27553299,\n",
       "        0.275538  , 0.27554301, 0.27554802, 0.27555303, 0.27555804,\n",
       "        0.27556305, 0.27556806, 0.27557307, 0.27557808, 0.27558309,\n",
       "        0.2755881 , 0.27559312, 0.27559813, 0.27560314, 0.27560815,\n",
       "        0.27561316, 0.27561817, 0.27562318, 0.27562819, 0.2756332 ,\n",
       "        0.27563821, 0.27564322, 0.27564823, 0.27565324, 0.27565825,\n",
       "        0.27566326, 0.27566828, 0.27567329, 0.2756783 , 0.27568331,\n",
       "        0.27568832, 0.27569333, 0.27569834, 0.27570335, 0.27570836,\n",
       "        0.27571337, 0.27571838, 0.27572339, 0.2757284 , 0.27573341,\n",
       "        0.27573843, 0.27574344, 0.27574845, 0.27575346, 0.27575847,\n",
       "        0.27576348, 0.27576849, 0.2757735 , 0.27577851, 0.27578352,\n",
       "        0.27578853]),\n",
       " <BarContainer object of 70 artists>)"
      ]
     },
     "execution_count": 21,
     "metadata": {},
     "output_type": "execute_result"
    },
    {
     "data": {
      "image/png": "[encoded data removed]",
      "text/plain": [
       "<Figure size 1000x500 with 1 Axes>"
      ]
     },
     "metadata": {},
     "output_type": "display_data"
    }
   ],
   "source": [
    "params = range(no_of_samples)  # Example iterable\n",
    "    \n",
    "with mp.Pool(10) as pool:\n",
    "    async_results = []\n",
    "    \n",
    "    for param in params:\n",
    "        async_result = pool.apply_async(worker_function, (param,))\n",
    "        async_results.append(async_result)\n",
    "    \n",
    "    # Retrieve results\n",
    "    results = np.array([ar.get() for ar in async_results])\n",
    "\n",
    "plt.figure(figsize=(10,5))\n",
    "plt.hist(np.array(results)[:,1],bins=70)"
   ]
  },
  {
   "cell_type": "code",
   "execution_count": 22,
   "metadata": {},
   "outputs": [
    {
     "data": {
      "text/plain": [
       "(array([  1.,   1.,   0.,   1.,   2.,   4.,   2.,   7.,   5.,   5.,  11.,\n",
       "         14.,  10.,  20.,  22.,  28.,  37.,  36.,  48.,  39.,  63.,  60.,\n",
       "         66.,  95.,  83.,  97., 101., 126.,  97., 141., 129., 158., 171.,\n",
       "        161., 173., 167., 192., 195., 186., 201., 172., 188., 181., 158.,\n",
       "        155., 143., 144., 118., 120., 103.,  92., 100.,  74.,  58.,  60.,\n",
       "         38.,  31.,  27.,  22.,   9.,  17.,  12.,   7.,   4.,   5.,   2.,\n",
       "          2.,   2.,   0.,   1.]),\n",
       " array([0.27543778, 0.27544279, 0.27544781, 0.27545282, 0.27545783,\n",
       "        0.27546284, 0.27546785, 0.27547286, 0.27547787, 0.27548288,\n",
       "        0.27548789, 0.2754929 , 0.27549791, 0.27550292, 0.27550793,\n",
       "        0.27551294, 0.27551795, 0.27552297, 0.27552798, 0.27553299,\n",
       "        0.275538  , 0.27554301, 0.27554802, 0.27555303, 0.27555804,\n",
       "        0.27556305, 0.27556806, 0.27557307, 0.27557808, 0.27558309,\n",
       "        0.2755881 , 0.27559312, 0.27559813, 0.27560314, 0.27560815,\n",
       "        0.27561316, 0.27561817, 0.27562318, 0.27562819, 0.2756332 ,\n",
       "        0.27563821, 0.27564322, 0.27564823, 0.27565324, 0.27565825,\n",
       "        0.27566326, 0.27566828, 0.27567329, 0.2756783 , 0.27568331,\n",
       "        0.27568832, 0.27569333, 0.27569834, 0.27570335, 0.27570836,\n",
       "        0.27571337, 0.27571838, 0.27572339, 0.2757284 , 0.27573341,\n",
       "        0.27573843, 0.27574344, 0.27574845, 0.27575346, 0.27575847,\n",
       "        0.27576348, 0.27576849, 0.2757735 , 0.27577851, 0.27578352,\n",
       "        0.27578853]),\n",
       " <BarContainer object of 70 artists>)"
      ]
     },
     "execution_count": 22,
     "metadata": {},
     "output_type": "execute_result"
    },
    {
     "data": {
      "image/png": "[encoded data removed]",
      "text/plain": [
       "<Figure size 1000x500 with 1 Axes>"
      ]
     },
     "metadata": {},
     "output_type": "display_data"
    }
   ],
   "source": [
    "pool = mp.Pool(10) \n",
    "future_res = [pool.apply_async(worker_function, (param,)) for param in range(no_of_samples)]\n",
    "res = [f.get() for f in future_res]\n",
    "# Close the pool and wait for the work to finish\n",
    "pool.close()\n",
    "pool.join()\n",
    "\n",
    "plt.figure(figsize=(10,5))\n",
    "plt.hist(np.array(results)[:,1],bins=70)"
   ]
  },
  {
   "cell_type": "code",
   "execution_count": 23,
   "metadata": {},
   "outputs": [],
   "source": [
    "nspikes,msr,OHKs,OHSs,maxHkpHs,Tohk,MHKs,MHSs,Tmhks=nj_results\n",
    "displacement=np.abs(res - nj_results)\n",
    "_,mu_msrDSP,mu_OHKsDSP,mu_OHSsDSP,mu_maxHkpHsDSP,mu_TohkDSP,mu_MHKsDSP,mu_MHSsDSP,mu_TmhksDSP=np.mean(displacement,axis=0)\n",
    "#_,sg_msr,sg_OHKs,sg_OHSs,sg_maxHkpHs,sg_Tohk,sg_MHKs,sg_MHSs,sg_Tmhks=np.std(displacement,axis=0)"
   ]
  },
  {
   "cell_type": "code",
   "execution_count": 27,
   "metadata": {},
   "outputs": [
    {
     "data": {
      "text/plain": [
       "(5000, 9)"
      ]
     },
     "execution_count": 27,
     "metadata": {},
     "output_type": "execute_result"
    }
   ],
   "source": [
    "np.shape(res)"
   ]
  },
  {
   "cell_type": "code",
   "execution_count": 24,
   "metadata": {},
   "outputs": [
    {
     "data": {
      "text/plain": [
       "{'ratid': 21012,\n",
       " 'nu_index': 31,\n",
       " 'unit_index': 2,\n",
       " 'U_GID': 5070,\n",
       " 'loc': 'SUB',\n",
       " 'nspikes': np.float64(3045.0),\n",
       " 'msr': np.float64(0.2756547029473171),\n",
       " 'OHKs': np.float64(0.24824343868488202),\n",
       " 'OHSs': np.float64(0.8628079098876413),\n",
       " 'maxHkpHs': np.float64(1.1110513485725233),\n",
       " 'Tohk': np.float64(0.6488886731980871),\n",
       " 'MHKs': np.float64(0.4520627130667849),\n",
       " 'MHSs': np.float64(0.5328343111828758),\n",
       " 'Tmhks': np.float64(13.784576676401947),\n",
       " 'mean_msrDSP': np.float64(4.8342861693358986e-05),\n",
       " 'mean_OHKsDSP': np.float64(0.00013374337421869487),\n",
       " 'mean_OHSsDSP': np.float64(8.650274431969168e-05),\n",
       " 'mean_maxHkpHsDSP': np.float64(8.322333711811662e-05),\n",
       " 'mean_TohkDSP': np.float64(0.0),\n",
       " 'mean_MHKsDSP': np.float64(0.0010505418617092236),\n",
       " 'mean_MHSsDSP': np.float64(0.0019978692140363878),\n",
       " 'mean_TmhksDSP': np.float64(0.21253970196594746)}"
      ]
     },
     "execution_count": 24,
     "metadata": {},
     "output_type": "execute_result"
    }
   ],
   "source": [
    "\n",
    "row = {\n",
    "    \"ratid\": ratid,\n",
    "    \"nu_index\": nu,\n",
    "    \"unit_index\": uni,\n",
    "    \"U_GID\": ugids,\n",
    "    \"loc\": df.iloc[nu].LOC[1],\n",
    "    \"nspikes\": nspikes,\n",
    "    \"msr\": msr,\n",
    "    \"OHKs\": OHKs,\n",
    "    \"OHSs\": OHSs,\n",
    "    \"maxHkpHs\": maxHkpHs,\n",
    "    \"Tohk\": Tohk,\n",
    "    \"MHKs\": MHKs,\n",
    "    \"MHSs\": MHSs,\n",
    "    \"Tmhks\": Tmhks,\n",
    "    \"mean_msrDSP\": mu_msrDSP,\n",
    "    \"mean_OHKsDSP\": mu_OHKsDSP,\n",
    "    \"mean_OHSsDSP\": mu_OHSsDSP,\n",
    "    \"mean_maxHkpHsDSP\": mu_maxHkpHsDSP,\n",
    "    \"mean_TohkDSP\": mu_TohkDSP,\n",
    "    \"mean_MHKsDSP\": mu_MHKsDSP,\n",
    "    \"mean_MHSsDSP\": mu_MHSsDSP,\n",
    "    \"mean_TmhksDSP\": mu_TmhksDSP\n",
    "}\n",
    "row"
   ]
  },
  {
   "cell_type": "code",
   "execution_count": 26,
   "metadata": {},
   "outputs": [
    {
     "name": "stdout",
     "output_type": "stream",
     "text": [
      "Calculating for SUB neuron: 31, unit: 2, U_GID: 5070\n"
     ]
    }
   ],
   "source": [
    "print(f\"Calculating for %s neuron: %d, unit: %d, U_GID: %d\" % (df.iloc[nu].LOC[1],nu,uni,ugids))"
   ]
  },
  {
   "cell_type": "code",
   "execution_count": null,
   "metadata": {},
   "outputs": [],
   "source": []
  }
 ],
 "metadata": {
  "kernelspec": {
   "display_name": "work",
   "language": "python",
   "name": "python3"
  },
  "language_info": {
   "codemirror_mode": {
    "name": "ipython",
    "version": 3
   },
   "file_extension": ".py",
   "mimetype": "text/x-python",
   "name": "python",
   "nbconvert_exporter": "python",
   "pygments_lexer": "ipython3",
   "version": "3.12.4"
  }
 },
 "nbformat": 4,
 "nbformat_minor": 2
}
